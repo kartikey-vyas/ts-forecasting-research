{
 "cells": [
  {
   "cell_type": "markdown",
   "metadata": {
    "slideshow": {
     "slide_type": "slide"
    }
   },
   "source": [
    "# Applying tsfresh to the M5 Competition\n",
    "#### Kartikey Vyas"
   ]
  },
  {
   "cell_type": "markdown",
   "metadata": {
    "slideshow": {
     "slide_type": "notes"
    }
   },
   "source": [
    "This notebook applies automated feature extraction and selection to data from the M5 competition. The M5 Kaggle competition was the fifth iteration of the \"Makidrakis\" Competitions from the University of Nicosia. The aim of the competition was to forecast the next 28 days of sales for Walmart in the US. We are provided hierarchicial sales data, broken down at the item level, department, product category, store and state. Additionally, the data set has information on price, promotions and special events. This competition serves as a very close example of what we are trying to achieve with the RETAILER project at FORECASTING_STARTUP.\n",
    "\n",
    "An algorithm termed Feature Extraction based on Scalable Hypothesis tests (FRESH), comprises comprehensive, automated feature extraction and selection. First, a comprehensive set of time series features are extracted through well-established mappings. Next, each feature is tested for its statistical significance and adjustments are made to account for the accumulation of statistical error. This process is used to select relevant features that can then form a feature matrix that acts as the input to a machine learning algorithm. This algorithm is described in a 2017 paper (shout-out Andreas) [[1]](#fresh)."
   ]
  },
  {
   "cell_type": "markdown",
   "metadata": {
    "slideshow": {
     "slide_type": "slide"
    }
   },
   "source": [
    "![freshalgo](fresh_algo.png)\n",
    "\n",
    "The FRESH algorithm is implemented in a Python-based machine learning library called tsfresh."
   ]
  },
  {
   "cell_type": "markdown",
   "metadata": {
    "slideshow": {
     "slide_type": "slide"
    }
   },
   "source": [
    "## Contents\n",
    "1. [Data Manipulation](#dataset)\n",
    "2. [Feature Extraction](#extraction)\n",
    "3. [Feature Selection](#selection)\n",
    "4. [Regression (Forecasting)](#reg)\n",
    "5. [Classification](#class)\n",
    "6. [References](#refs)"
   ]
  },
  {
   "cell_type": "markdown",
   "metadata": {
    "slideshow": {
     "slide_type": "slide"
    }
   },
   "source": [
    "## Data Manipulation <a name=\"dataset\"></a>"
   ]
  },
  {
   "cell_type": "markdown",
   "metadata": {
    "slideshow": {
     "slide_type": "slide"
    }
   },
   "source": [
    "To recap, we are given **42,840** hierarchical time-series. There are 3049 individual products from 3 categories and 7 departments, sold in 10 stores in 3 states. The sales information covers Jan 2011 to June 2016. For the purposes of demonstrating `tsfresh`, we will use data from only one department in one store, considering just the last two years of data. `tsfresh` needs the time-series data in a very specific format before feature extraction can be conducted, so we will first transform the data."
   ]
  },
  {
   "cell_type": "code",
   "execution_count": 1,
   "metadata": {
    "slideshow": {
     "slide_type": "fragment"
    }
   },
   "outputs": [],
   "source": [
    "import pandas as pd\n",
    "import time\n",
    "import matplotlib.pyplot as plt\n",
    "import numpy as np\n",
    "import seaborn as sns\n",
    "import pickle\n",
    "from tsfresh.feature_extraction import extract_features, MinimalFCParameters, EfficientFCParameters\n",
    "from tsfresh.feature_extraction.settings import from_columns\n",
    "from tsfresh.utilities.dataframe_functions import impute\n",
    "from tsfresh.utilities.dataframe_functions import roll_time_series, make_forecasting_frame\n",
    "from tsfresh.feature_selection import select_features\n",
    "from tsfresh.feature_selection.significance_tests import target_real_feature_binary_test, target_real_feature_real_test\n",
    "from tsfresh.feature_selection.relevance import calculate_relevance_table"
   ]
  },
  {
   "cell_type": "code",
   "execution_count": 2,
   "metadata": {
    "slideshow": {
     "slide_type": "fragment"
    }
   },
   "outputs": [],
   "source": [
    "## READ DATA ######################################################################################\n",
    "train = pd.read_csv('data/raw/sales_train_validation.csv')\n",
    "prices = pd .read_csv('data/raw/sell_prices.csv')\n",
    "calendar = pd.read_csv('data/raw/calendar.csv')"
   ]
  },
  {
   "cell_type": "code",
   "execution_count": 3,
   "metadata": {
    "slideshow": {
     "slide_type": "slide"
    }
   },
   "outputs": [
    {
     "name": "stdout",
     "output_type": "stream",
     "text": [
      "(30490, 1919)\n"
     ]
    },
    {
     "data": {
      "text/html": [
       "<div>\n",
       "<style scoped>\n",
       "    .dataframe tbody tr th:only-of-type {\n",
       "        vertical-align: middle;\n",
       "    }\n",
       "\n",
       "    .dataframe tbody tr th {\n",
       "        vertical-align: top;\n",
       "    }\n",
       "\n",
       "    .dataframe thead th {\n",
       "        text-align: right;\n",
       "    }\n",
       "</style>\n",
       "<table border=\"1\" class=\"dataframe\">\n",
       "  <thead>\n",
       "    <tr style=\"text-align: right;\">\n",
       "      <th></th>\n",
       "      <th>id</th>\n",
       "      <th>item_id</th>\n",
       "      <th>dept_id</th>\n",
       "      <th>cat_id</th>\n",
       "      <th>store_id</th>\n",
       "      <th>state_id</th>\n",
       "      <th>d_1</th>\n",
       "      <th>d_2</th>\n",
       "      <th>d_3</th>\n",
       "      <th>d_4</th>\n",
       "      <th>...</th>\n",
       "      <th>d_1904</th>\n",
       "      <th>d_1905</th>\n",
       "      <th>d_1906</th>\n",
       "      <th>d_1907</th>\n",
       "      <th>d_1908</th>\n",
       "      <th>d_1909</th>\n",
       "      <th>d_1910</th>\n",
       "      <th>d_1911</th>\n",
       "      <th>d_1912</th>\n",
       "      <th>d_1913</th>\n",
       "    </tr>\n",
       "  </thead>\n",
       "  <tbody>\n",
       "    <tr>\n",
       "      <th>0</th>\n",
       "      <td>HOBBIES_1_001_CA_1_validation</td>\n",
       "      <td>HOBBIES_1_001</td>\n",
       "      <td>HOBBIES_1</td>\n",
       "      <td>HOBBIES</td>\n",
       "      <td>CA_1</td>\n",
       "      <td>CA</td>\n",
       "      <td>0</td>\n",
       "      <td>0</td>\n",
       "      <td>0</td>\n",
       "      <td>0</td>\n",
       "      <td>...</td>\n",
       "      <td>1</td>\n",
       "      <td>3</td>\n",
       "      <td>0</td>\n",
       "      <td>1</td>\n",
       "      <td>1</td>\n",
       "      <td>1</td>\n",
       "      <td>3</td>\n",
       "      <td>0</td>\n",
       "      <td>1</td>\n",
       "      <td>1</td>\n",
       "    </tr>\n",
       "    <tr>\n",
       "      <th>1</th>\n",
       "      <td>HOBBIES_1_002_CA_1_validation</td>\n",
       "      <td>HOBBIES_1_002</td>\n",
       "      <td>HOBBIES_1</td>\n",
       "      <td>HOBBIES</td>\n",
       "      <td>CA_1</td>\n",
       "      <td>CA</td>\n",
       "      <td>0</td>\n",
       "      <td>0</td>\n",
       "      <td>0</td>\n",
       "      <td>0</td>\n",
       "      <td>...</td>\n",
       "      <td>0</td>\n",
       "      <td>0</td>\n",
       "      <td>0</td>\n",
       "      <td>0</td>\n",
       "      <td>0</td>\n",
       "      <td>1</td>\n",
       "      <td>0</td>\n",
       "      <td>0</td>\n",
       "      <td>0</td>\n",
       "      <td>0</td>\n",
       "    </tr>\n",
       "    <tr>\n",
       "      <th>2</th>\n",
       "      <td>HOBBIES_1_003_CA_1_validation</td>\n",
       "      <td>HOBBIES_1_003</td>\n",
       "      <td>HOBBIES_1</td>\n",
       "      <td>HOBBIES</td>\n",
       "      <td>CA_1</td>\n",
       "      <td>CA</td>\n",
       "      <td>0</td>\n",
       "      <td>0</td>\n",
       "      <td>0</td>\n",
       "      <td>0</td>\n",
       "      <td>...</td>\n",
       "      <td>2</td>\n",
       "      <td>1</td>\n",
       "      <td>2</td>\n",
       "      <td>1</td>\n",
       "      <td>1</td>\n",
       "      <td>1</td>\n",
       "      <td>0</td>\n",
       "      <td>1</td>\n",
       "      <td>1</td>\n",
       "      <td>1</td>\n",
       "    </tr>\n",
       "  </tbody>\n",
       "</table>\n",
       "<p>3 rows × 1919 columns</p>\n",
       "</div>"
      ],
      "text/plain": [
       "                              id        item_id    dept_id   cat_id store_id  \\\n",
       "0  HOBBIES_1_001_CA_1_validation  HOBBIES_1_001  HOBBIES_1  HOBBIES     CA_1   \n",
       "1  HOBBIES_1_002_CA_1_validation  HOBBIES_1_002  HOBBIES_1  HOBBIES     CA_1   \n",
       "2  HOBBIES_1_003_CA_1_validation  HOBBIES_1_003  HOBBIES_1  HOBBIES     CA_1   \n",
       "\n",
       "  state_id  d_1  d_2  d_3  d_4  ...  d_1904  d_1905  d_1906  d_1907  d_1908  \\\n",
       "0       CA    0    0    0    0  ...       1       3       0       1       1   \n",
       "1       CA    0    0    0    0  ...       0       0       0       0       0   \n",
       "2       CA    0    0    0    0  ...       2       1       2       1       1   \n",
       "\n",
       "   d_1909  d_1910  d_1911  d_1912  d_1913  \n",
       "0       1       3       0       1       1  \n",
       "1       1       0       0       0       0  \n",
       "2       1       0       1       1       1  \n",
       "\n",
       "[3 rows x 1919 columns]"
      ]
     },
     "execution_count": 3,
     "metadata": {},
     "output_type": "execute_result"
    }
   ],
   "source": [
    "print(train.shape)\n",
    "train.head(3)"
   ]
  },
  {
   "cell_type": "code",
   "execution_count": 4,
   "metadata": {
    "slideshow": {
     "slide_type": "subslide"
    }
   },
   "outputs": [
    {
     "name": "stdout",
     "output_type": "stream",
     "text": [
      "(1969, 14)\n"
     ]
    },
    {
     "data": {
      "text/html": [
       "<div>\n",
       "<style scoped>\n",
       "    .dataframe tbody tr th:only-of-type {\n",
       "        vertical-align: middle;\n",
       "    }\n",
       "\n",
       "    .dataframe tbody tr th {\n",
       "        vertical-align: top;\n",
       "    }\n",
       "\n",
       "    .dataframe thead th {\n",
       "        text-align: right;\n",
       "    }\n",
       "</style>\n",
       "<table border=\"1\" class=\"dataframe\">\n",
       "  <thead>\n",
       "    <tr style=\"text-align: right;\">\n",
       "      <th></th>\n",
       "      <th>date</th>\n",
       "      <th>wm_yr_wk</th>\n",
       "      <th>weekday</th>\n",
       "      <th>wday</th>\n",
       "      <th>month</th>\n",
       "      <th>year</th>\n",
       "      <th>d</th>\n",
       "      <th>event_name_1</th>\n",
       "      <th>event_type_1</th>\n",
       "      <th>event_name_2</th>\n",
       "      <th>event_type_2</th>\n",
       "      <th>snap_CA</th>\n",
       "      <th>snap_TX</th>\n",
       "      <th>snap_WI</th>\n",
       "    </tr>\n",
       "  </thead>\n",
       "  <tbody>\n",
       "    <tr>\n",
       "      <th>0</th>\n",
       "      <td>2011-01-29</td>\n",
       "      <td>11101</td>\n",
       "      <td>Saturday</td>\n",
       "      <td>1</td>\n",
       "      <td>1</td>\n",
       "      <td>2011</td>\n",
       "      <td>d_1</td>\n",
       "      <td>NaN</td>\n",
       "      <td>NaN</td>\n",
       "      <td>NaN</td>\n",
       "      <td>NaN</td>\n",
       "      <td>0</td>\n",
       "      <td>0</td>\n",
       "      <td>0</td>\n",
       "    </tr>\n",
       "    <tr>\n",
       "      <th>1</th>\n",
       "      <td>2011-01-30</td>\n",
       "      <td>11101</td>\n",
       "      <td>Sunday</td>\n",
       "      <td>2</td>\n",
       "      <td>1</td>\n",
       "      <td>2011</td>\n",
       "      <td>d_2</td>\n",
       "      <td>NaN</td>\n",
       "      <td>NaN</td>\n",
       "      <td>NaN</td>\n",
       "      <td>NaN</td>\n",
       "      <td>0</td>\n",
       "      <td>0</td>\n",
       "      <td>0</td>\n",
       "    </tr>\n",
       "    <tr>\n",
       "      <th>2</th>\n",
       "      <td>2011-01-31</td>\n",
       "      <td>11101</td>\n",
       "      <td>Monday</td>\n",
       "      <td>3</td>\n",
       "      <td>1</td>\n",
       "      <td>2011</td>\n",
       "      <td>d_3</td>\n",
       "      <td>NaN</td>\n",
       "      <td>NaN</td>\n",
       "      <td>NaN</td>\n",
       "      <td>NaN</td>\n",
       "      <td>0</td>\n",
       "      <td>0</td>\n",
       "      <td>0</td>\n",
       "    </tr>\n",
       "  </tbody>\n",
       "</table>\n",
       "</div>"
      ],
      "text/plain": [
       "         date  wm_yr_wk   weekday  wday  month  year    d event_name_1  \\\n",
       "0  2011-01-29     11101  Saturday     1      1  2011  d_1          NaN   \n",
       "1  2011-01-30     11101    Sunday     2      1  2011  d_2          NaN   \n",
       "2  2011-01-31     11101    Monday     3      1  2011  d_3          NaN   \n",
       "\n",
       "  event_type_1 event_name_2 event_type_2  snap_CA  snap_TX  snap_WI  \n",
       "0          NaN          NaN          NaN        0        0        0  \n",
       "1          NaN          NaN          NaN        0        0        0  \n",
       "2          NaN          NaN          NaN        0        0        0  "
      ]
     },
     "execution_count": 4,
     "metadata": {},
     "output_type": "execute_result"
    }
   ],
   "source": [
    "print(calendar.shape)\n",
    "calendar.head(3)"
   ]
  },
  {
   "cell_type": "code",
   "execution_count": 5,
   "metadata": {
    "jupyter": {
     "source_hidden": true
    },
    "slideshow": {
     "slide_type": "subslide"
    }
   },
   "outputs": [
    {
     "name": "stdout",
     "output_type": "stream",
     "text": [
      "(6841121, 4)\n"
     ]
    },
    {
     "data": {
      "text/html": [
       "<div>\n",
       "<style scoped>\n",
       "    .dataframe tbody tr th:only-of-type {\n",
       "        vertical-align: middle;\n",
       "    }\n",
       "\n",
       "    .dataframe tbody tr th {\n",
       "        vertical-align: top;\n",
       "    }\n",
       "\n",
       "    .dataframe thead th {\n",
       "        text-align: right;\n",
       "    }\n",
       "</style>\n",
       "<table border=\"1\" class=\"dataframe\">\n",
       "  <thead>\n",
       "    <tr style=\"text-align: right;\">\n",
       "      <th></th>\n",
       "      <th>store_id</th>\n",
       "      <th>item_id</th>\n",
       "      <th>wm_yr_wk</th>\n",
       "      <th>sell_price</th>\n",
       "    </tr>\n",
       "  </thead>\n",
       "  <tbody>\n",
       "    <tr>\n",
       "      <th>0</th>\n",
       "      <td>CA_1</td>\n",
       "      <td>HOBBIES_1_001</td>\n",
       "      <td>11325</td>\n",
       "      <td>9.58</td>\n",
       "    </tr>\n",
       "    <tr>\n",
       "      <th>1</th>\n",
       "      <td>CA_1</td>\n",
       "      <td>HOBBIES_1_001</td>\n",
       "      <td>11326</td>\n",
       "      <td>9.58</td>\n",
       "    </tr>\n",
       "    <tr>\n",
       "      <th>2</th>\n",
       "      <td>CA_1</td>\n",
       "      <td>HOBBIES_1_001</td>\n",
       "      <td>11327</td>\n",
       "      <td>8.26</td>\n",
       "    </tr>\n",
       "  </tbody>\n",
       "</table>\n",
       "</div>"
      ],
      "text/plain": [
       "  store_id        item_id  wm_yr_wk  sell_price\n",
       "0     CA_1  HOBBIES_1_001     11325        9.58\n",
       "1     CA_1  HOBBIES_1_001     11326        9.58\n",
       "2     CA_1  HOBBIES_1_001     11327        8.26"
      ]
     },
     "execution_count": 5,
     "metadata": {},
     "output_type": "execute_result"
    }
   ],
   "source": [
    "print(prices.shape)\n",
    "prices.head(3)"
   ]
  },
  {
   "cell_type": "markdown",
   "metadata": {
    "slideshow": {
     "slide_type": "slide"
    }
   },
   "source": [
    "The first step is to pull out just the time series from the data. We'll add the other variables into the design matrix later."
   ]
  },
  {
   "cell_type": "code",
   "execution_count": 6,
   "metadata": {
    "slideshow": {
     "slide_type": "subslide"
    }
   },
   "outputs": [
    {
     "name": "stdout",
     "output_type": "stream",
     "text": [
      "(730, 532)\n"
     ]
    },
    {
     "data": {
      "text/html": [
       "<div>\n",
       "<style scoped>\n",
       "    .dataframe tbody tr th:only-of-type {\n",
       "        vertical-align: middle;\n",
       "    }\n",
       "\n",
       "    .dataframe tbody tr th {\n",
       "        vertical-align: top;\n",
       "    }\n",
       "\n",
       "    .dataframe thead th {\n",
       "        text-align: right;\n",
       "    }\n",
       "</style>\n",
       "<table border=\"1\" class=\"dataframe\">\n",
       "  <thead>\n",
       "    <tr style=\"text-align: right;\">\n",
       "      <th>id</th>\n",
       "      <th>HOUSEHOLD_1_001_WI_1_validation</th>\n",
       "      <th>HOUSEHOLD_1_002_WI_1_validation</th>\n",
       "      <th>HOUSEHOLD_1_003_WI_1_validation</th>\n",
       "      <th>HOUSEHOLD_1_004_WI_1_validation</th>\n",
       "      <th>HOUSEHOLD_1_005_WI_1_validation</th>\n",
       "      <th>HOUSEHOLD_1_006_WI_1_validation</th>\n",
       "      <th>HOUSEHOLD_1_007_WI_1_validation</th>\n",
       "      <th>HOUSEHOLD_1_008_WI_1_validation</th>\n",
       "      <th>HOUSEHOLD_1_009_WI_1_validation</th>\n",
       "      <th>HOUSEHOLD_1_010_WI_1_validation</th>\n",
       "      <th>...</th>\n",
       "      <th>HOUSEHOLD_1_532_WI_1_validation</th>\n",
       "      <th>HOUSEHOLD_1_533_WI_1_validation</th>\n",
       "      <th>HOUSEHOLD_1_534_WI_1_validation</th>\n",
       "      <th>HOUSEHOLD_1_535_WI_1_validation</th>\n",
       "      <th>HOUSEHOLD_1_536_WI_1_validation</th>\n",
       "      <th>HOUSEHOLD_1_537_WI_1_validation</th>\n",
       "      <th>HOUSEHOLD_1_538_WI_1_validation</th>\n",
       "      <th>HOUSEHOLD_1_539_WI_1_validation</th>\n",
       "      <th>HOUSEHOLD_1_540_WI_1_validation</th>\n",
       "      <th>HOUSEHOLD_1_541_WI_1_validation</th>\n",
       "    </tr>\n",
       "    <tr>\n",
       "      <th>date</th>\n",
       "      <th></th>\n",
       "      <th></th>\n",
       "      <th></th>\n",
       "      <th></th>\n",
       "      <th></th>\n",
       "      <th></th>\n",
       "      <th></th>\n",
       "      <th></th>\n",
       "      <th></th>\n",
       "      <th></th>\n",
       "      <th></th>\n",
       "      <th></th>\n",
       "      <th></th>\n",
       "      <th></th>\n",
       "      <th></th>\n",
       "      <th></th>\n",
       "      <th></th>\n",
       "      <th></th>\n",
       "      <th></th>\n",
       "      <th></th>\n",
       "      <th></th>\n",
       "    </tr>\n",
       "  </thead>\n",
       "  <tbody>\n",
       "    <tr>\n",
       "      <th>2014-04-26</th>\n",
       "      <td>1</td>\n",
       "      <td>7</td>\n",
       "      <td>1</td>\n",
       "      <td>0</td>\n",
       "      <td>3</td>\n",
       "      <td>0</td>\n",
       "      <td>1</td>\n",
       "      <td>0</td>\n",
       "      <td>0</td>\n",
       "      <td>0</td>\n",
       "      <td>...</td>\n",
       "      <td>0</td>\n",
       "      <td>1</td>\n",
       "      <td>0</td>\n",
       "      <td>5</td>\n",
       "      <td>7</td>\n",
       "      <td>1</td>\n",
       "      <td>6</td>\n",
       "      <td>4</td>\n",
       "      <td>4</td>\n",
       "      <td>0</td>\n",
       "    </tr>\n",
       "    <tr>\n",
       "      <th>2014-04-27</th>\n",
       "      <td>0</td>\n",
       "      <td>2</td>\n",
       "      <td>3</td>\n",
       "      <td>2</td>\n",
       "      <td>0</td>\n",
       "      <td>0</td>\n",
       "      <td>2</td>\n",
       "      <td>0</td>\n",
       "      <td>0</td>\n",
       "      <td>0</td>\n",
       "      <td>...</td>\n",
       "      <td>2</td>\n",
       "      <td>3</td>\n",
       "      <td>0</td>\n",
       "      <td>2</td>\n",
       "      <td>1</td>\n",
       "      <td>1</td>\n",
       "      <td>2</td>\n",
       "      <td>2</td>\n",
       "      <td>3</td>\n",
       "      <td>0</td>\n",
       "    </tr>\n",
       "    <tr>\n",
       "      <th>2014-04-28</th>\n",
       "      <td>0</td>\n",
       "      <td>3</td>\n",
       "      <td>1</td>\n",
       "      <td>2</td>\n",
       "      <td>1</td>\n",
       "      <td>2</td>\n",
       "      <td>0</td>\n",
       "      <td>0</td>\n",
       "      <td>0</td>\n",
       "      <td>0</td>\n",
       "      <td>...</td>\n",
       "      <td>1</td>\n",
       "      <td>3</td>\n",
       "      <td>0</td>\n",
       "      <td>0</td>\n",
       "      <td>0</td>\n",
       "      <td>1</td>\n",
       "      <td>0</td>\n",
       "      <td>1</td>\n",
       "      <td>1</td>\n",
       "      <td>0</td>\n",
       "    </tr>\n",
       "    <tr>\n",
       "      <th>2014-04-29</th>\n",
       "      <td>1</td>\n",
       "      <td>0</td>\n",
       "      <td>1</td>\n",
       "      <td>0</td>\n",
       "      <td>1</td>\n",
       "      <td>1</td>\n",
       "      <td>1</td>\n",
       "      <td>0</td>\n",
       "      <td>0</td>\n",
       "      <td>0</td>\n",
       "      <td>...</td>\n",
       "      <td>0</td>\n",
       "      <td>0</td>\n",
       "      <td>0</td>\n",
       "      <td>0</td>\n",
       "      <td>3</td>\n",
       "      <td>1</td>\n",
       "      <td>2</td>\n",
       "      <td>1</td>\n",
       "      <td>4</td>\n",
       "      <td>0</td>\n",
       "    </tr>\n",
       "    <tr>\n",
       "      <th>2014-04-30</th>\n",
       "      <td>0</td>\n",
       "      <td>4</td>\n",
       "      <td>1</td>\n",
       "      <td>0</td>\n",
       "      <td>0</td>\n",
       "      <td>0</td>\n",
       "      <td>2</td>\n",
       "      <td>0</td>\n",
       "      <td>0</td>\n",
       "      <td>0</td>\n",
       "      <td>...</td>\n",
       "      <td>1</td>\n",
       "      <td>1</td>\n",
       "      <td>0</td>\n",
       "      <td>4</td>\n",
       "      <td>2</td>\n",
       "      <td>2</td>\n",
       "      <td>2</td>\n",
       "      <td>3</td>\n",
       "      <td>4</td>\n",
       "      <td>0</td>\n",
       "    </tr>\n",
       "  </tbody>\n",
       "</table>\n",
       "<p>5 rows × 532 columns</p>\n",
       "</div>"
      ],
      "text/plain": [
       "id          HOUSEHOLD_1_001_WI_1_validation  HOUSEHOLD_1_002_WI_1_validation  \\\n",
       "date                                                                           \n",
       "2014-04-26                                1                                7   \n",
       "2014-04-27                                0                                2   \n",
       "2014-04-28                                0                                3   \n",
       "2014-04-29                                1                                0   \n",
       "2014-04-30                                0                                4   \n",
       "\n",
       "id          HOUSEHOLD_1_003_WI_1_validation  HOUSEHOLD_1_004_WI_1_validation  \\\n",
       "date                                                                           \n",
       "2014-04-26                                1                                0   \n",
       "2014-04-27                                3                                2   \n",
       "2014-04-28                                1                                2   \n",
       "2014-04-29                                1                                0   \n",
       "2014-04-30                                1                                0   \n",
       "\n",
       "id          HOUSEHOLD_1_005_WI_1_validation  HOUSEHOLD_1_006_WI_1_validation  \\\n",
       "date                                                                           \n",
       "2014-04-26                                3                                0   \n",
       "2014-04-27                                0                                0   \n",
       "2014-04-28                                1                                2   \n",
       "2014-04-29                                1                                1   \n",
       "2014-04-30                                0                                0   \n",
       "\n",
       "id          HOUSEHOLD_1_007_WI_1_validation  HOUSEHOLD_1_008_WI_1_validation  \\\n",
       "date                                                                           \n",
       "2014-04-26                                1                                0   \n",
       "2014-04-27                                2                                0   \n",
       "2014-04-28                                0                                0   \n",
       "2014-04-29                                1                                0   \n",
       "2014-04-30                                2                                0   \n",
       "\n",
       "id          HOUSEHOLD_1_009_WI_1_validation  HOUSEHOLD_1_010_WI_1_validation  \\\n",
       "date                                                                           \n",
       "2014-04-26                                0                                0   \n",
       "2014-04-27                                0                                0   \n",
       "2014-04-28                                0                                0   \n",
       "2014-04-29                                0                                0   \n",
       "2014-04-30                                0                                0   \n",
       "\n",
       "id          ...  HOUSEHOLD_1_532_WI_1_validation  \\\n",
       "date        ...                                    \n",
       "2014-04-26  ...                                0   \n",
       "2014-04-27  ...                                2   \n",
       "2014-04-28  ...                                1   \n",
       "2014-04-29  ...                                0   \n",
       "2014-04-30  ...                                1   \n",
       "\n",
       "id          HOUSEHOLD_1_533_WI_1_validation  HOUSEHOLD_1_534_WI_1_validation  \\\n",
       "date                                                                           \n",
       "2014-04-26                                1                                0   \n",
       "2014-04-27                                3                                0   \n",
       "2014-04-28                                3                                0   \n",
       "2014-04-29                                0                                0   \n",
       "2014-04-30                                1                                0   \n",
       "\n",
       "id          HOUSEHOLD_1_535_WI_1_validation  HOUSEHOLD_1_536_WI_1_validation  \\\n",
       "date                                                                           \n",
       "2014-04-26                                5                                7   \n",
       "2014-04-27                                2                                1   \n",
       "2014-04-28                                0                                0   \n",
       "2014-04-29                                0                                3   \n",
       "2014-04-30                                4                                2   \n",
       "\n",
       "id          HOUSEHOLD_1_537_WI_1_validation  HOUSEHOLD_1_538_WI_1_validation  \\\n",
       "date                                                                           \n",
       "2014-04-26                                1                                6   \n",
       "2014-04-27                                1                                2   \n",
       "2014-04-28                                1                                0   \n",
       "2014-04-29                                1                                2   \n",
       "2014-04-30                                2                                2   \n",
       "\n",
       "id          HOUSEHOLD_1_539_WI_1_validation  HOUSEHOLD_1_540_WI_1_validation  \\\n",
       "date                                                                           \n",
       "2014-04-26                                4                                4   \n",
       "2014-04-27                                2                                3   \n",
       "2014-04-28                                1                                1   \n",
       "2014-04-29                                1                                4   \n",
       "2014-04-30                                3                                4   \n",
       "\n",
       "id          HOUSEHOLD_1_541_WI_1_validation  \n",
       "date                                         \n",
       "2014-04-26                                0  \n",
       "2014-04-27                                0  \n",
       "2014-04-28                                0  \n",
       "2014-04-29                                0  \n",
       "2014-04-30                                0  \n",
       "\n",
       "[5 rows x 532 columns]"
      ]
     },
     "execution_count": 6,
     "metadata": {},
     "output_type": "execute_result"
    }
   ],
   "source": [
    "## PRE-PROCESSING #################################################################################\n",
    "df_ts = (train[(train['store_id'] == 'WI_1') & \\\n",
    "               (train['dept_id'] == 'HOUSEHOLD_1')]\n",
    "     .set_index('id')\n",
    "     .iloc[:,5:]\n",
    "     .T\n",
    "     .iloc[-730:,:])\n",
    "\n",
    "# add date as an index\n",
    "calendar.index = calendar['d']\n",
    "date_features = (calendar[calendar.index.isin(df_ts.index)]\n",
    "                 .set_index('date'))\n",
    "df_ts.index = date_features.index\n",
    "print(df_ts.shape)\n",
    "df_ts.head()"
   ]
  },
  {
   "cell_type": "code",
   "execution_count": 7,
   "metadata": {
    "slideshow": {
     "slide_type": "skip"
    }
   },
   "outputs": [
    {
     "data": {
      "text/html": [
       "<div>\n",
       "<style scoped>\n",
       "    .dataframe tbody tr th:only-of-type {\n",
       "        vertical-align: middle;\n",
       "    }\n",
       "\n",
       "    .dataframe tbody tr th {\n",
       "        vertical-align: top;\n",
       "    }\n",
       "\n",
       "    .dataframe thead th {\n",
       "        text-align: right;\n",
       "    }\n",
       "</style>\n",
       "<table border=\"1\" class=\"dataframe\">\n",
       "  <thead>\n",
       "    <tr style=\"text-align: right;\">\n",
       "      <th></th>\n",
       "      <th>prod_id</th>\n",
       "      <th>item_id</th>\n",
       "      <th>dept_id</th>\n",
       "      <th>cat_id</th>\n",
       "      <th>store_id</th>\n",
       "    </tr>\n",
       "  </thead>\n",
       "  <tbody>\n",
       "    <tr>\n",
       "      <th>21908</th>\n",
       "      <td>HOUSEHOLD_1_001_WI_1_validation</td>\n",
       "      <td>HOUSEHOLD_1_001</td>\n",
       "      <td>HOUSEHOLD_1</td>\n",
       "      <td>HOUSEHOLD</td>\n",
       "      <td>WI_1</td>\n",
       "    </tr>\n",
       "    <tr>\n",
       "      <th>21909</th>\n",
       "      <td>HOUSEHOLD_1_002_WI_1_validation</td>\n",
       "      <td>HOUSEHOLD_1_002</td>\n",
       "      <td>HOUSEHOLD_1</td>\n",
       "      <td>HOUSEHOLD</td>\n",
       "      <td>WI_1</td>\n",
       "    </tr>\n",
       "    <tr>\n",
       "      <th>21910</th>\n",
       "      <td>HOUSEHOLD_1_003_WI_1_validation</td>\n",
       "      <td>HOUSEHOLD_1_003</td>\n",
       "      <td>HOUSEHOLD_1</td>\n",
       "      <td>HOUSEHOLD</td>\n",
       "      <td>WI_1</td>\n",
       "    </tr>\n",
       "    <tr>\n",
       "      <th>21911</th>\n",
       "      <td>HOUSEHOLD_1_004_WI_1_validation</td>\n",
       "      <td>HOUSEHOLD_1_004</td>\n",
       "      <td>HOUSEHOLD_1</td>\n",
       "      <td>HOUSEHOLD</td>\n",
       "      <td>WI_1</td>\n",
       "    </tr>\n",
       "    <tr>\n",
       "      <th>21912</th>\n",
       "      <td>HOUSEHOLD_1_005_WI_1_validation</td>\n",
       "      <td>HOUSEHOLD_1_005</td>\n",
       "      <td>HOUSEHOLD_1</td>\n",
       "      <td>HOUSEHOLD</td>\n",
       "      <td>WI_1</td>\n",
       "    </tr>\n",
       "  </tbody>\n",
       "</table>\n",
       "</div>"
      ],
      "text/plain": [
       "                               prod_id          item_id      dept_id  \\\n",
       "21908  HOUSEHOLD_1_001_WI_1_validation  HOUSEHOLD_1_001  HOUSEHOLD_1   \n",
       "21909  HOUSEHOLD_1_002_WI_1_validation  HOUSEHOLD_1_002  HOUSEHOLD_1   \n",
       "21910  HOUSEHOLD_1_003_WI_1_validation  HOUSEHOLD_1_003  HOUSEHOLD_1   \n",
       "21911  HOUSEHOLD_1_004_WI_1_validation  HOUSEHOLD_1_004  HOUSEHOLD_1   \n",
       "21912  HOUSEHOLD_1_005_WI_1_validation  HOUSEHOLD_1_005  HOUSEHOLD_1   \n",
       "\n",
       "          cat_id store_id  \n",
       "21908  HOUSEHOLD     WI_1  \n",
       "21909  HOUSEHOLD     WI_1  \n",
       "21910  HOUSEHOLD     WI_1  \n",
       "21911  HOUSEHOLD     WI_1  \n",
       "21912  HOUSEHOLD     WI_1  "
      ]
     },
     "execution_count": 7,
     "metadata": {},
     "output_type": "execute_result"
    }
   ],
   "source": [
    "cat_features = (train[(train['store_id'] == 'WI_1') & \\\n",
    "               (train['dept_id'] == 'HOUSEHOLD_1')]\n",
    "     .iloc[:,:5]\n",
    "     .rename(columns={'id':'prod_id'}))\n",
    "cat_features.head()"
   ]
  },
  {
   "cell_type": "code",
   "execution_count": 8,
   "metadata": {
    "slideshow": {
     "slide_type": "subslide"
    }
   },
   "outputs": [
    {
     "data": {
      "text/html": [
       "<div>\n",
       "<style scoped>\n",
       "    .dataframe tbody tr th:only-of-type {\n",
       "        vertical-align: middle;\n",
       "    }\n",
       "\n",
       "    .dataframe tbody tr th {\n",
       "        vertical-align: top;\n",
       "    }\n",
       "\n",
       "    .dataframe thead th {\n",
       "        text-align: right;\n",
       "    }\n",
       "</style>\n",
       "<table border=\"1\" class=\"dataframe\">\n",
       "  <thead>\n",
       "    <tr style=\"text-align: right;\">\n",
       "      <th></th>\n",
       "      <th>date</th>\n",
       "      <th>id</th>\n",
       "      <th>sales</th>\n",
       "    </tr>\n",
       "  </thead>\n",
       "  <tbody>\n",
       "    <tr>\n",
       "      <th>0</th>\n",
       "      <td>2014-04-26</td>\n",
       "      <td>HOUSEHOLD_1_001_WI_1_validation</td>\n",
       "      <td>1</td>\n",
       "    </tr>\n",
       "    <tr>\n",
       "      <th>1</th>\n",
       "      <td>2014-04-27</td>\n",
       "      <td>HOUSEHOLD_1_001_WI_1_validation</td>\n",
       "      <td>0</td>\n",
       "    </tr>\n",
       "    <tr>\n",
       "      <th>2</th>\n",
       "      <td>2014-04-28</td>\n",
       "      <td>HOUSEHOLD_1_001_WI_1_validation</td>\n",
       "      <td>0</td>\n",
       "    </tr>\n",
       "    <tr>\n",
       "      <th>3</th>\n",
       "      <td>2014-04-29</td>\n",
       "      <td>HOUSEHOLD_1_001_WI_1_validation</td>\n",
       "      <td>1</td>\n",
       "    </tr>\n",
       "    <tr>\n",
       "      <th>4</th>\n",
       "      <td>2014-04-30</td>\n",
       "      <td>HOUSEHOLD_1_001_WI_1_validation</td>\n",
       "      <td>0</td>\n",
       "    </tr>\n",
       "  </tbody>\n",
       "</table>\n",
       "</div>"
      ],
      "text/plain": [
       "         date                               id  sales\n",
       "0  2014-04-26  HOUSEHOLD_1_001_WI_1_validation      1\n",
       "1  2014-04-27  HOUSEHOLD_1_001_WI_1_validation      0\n",
       "2  2014-04-28  HOUSEHOLD_1_001_WI_1_validation      0\n",
       "3  2014-04-29  HOUSEHOLD_1_001_WI_1_validation      1\n",
       "4  2014-04-30  HOUSEHOLD_1_001_WI_1_validation      0"
      ]
     },
     "execution_count": 8,
     "metadata": {},
     "output_type": "execute_result"
    }
   ],
   "source": [
    "# pivot to long format\n",
    "df_melted = df_ts.copy()\n",
    "df_melted['date'] = df_melted.index\n",
    "df_melted = df_melted.melt(id_vars='date', value_name='sales')\n",
    "df_melted.head()"
   ]
  },
  {
   "cell_type": "markdown",
   "metadata": {
    "slideshow": {
     "slide_type": "slide"
    }
   },
   "source": [
    "### Rolling Windows\n",
    "tsfresh has a built-in function that can take a DataFrame of time series in a long format and produce rolling windows, upon which feature extraction can be conducted. **Warning** This process is quite CPU intensive."
   ]
  },
  {
   "cell_type": "code",
   "execution_count": 12,
   "metadata": {
    "slideshow": {
     "slide_type": "subslide"
    }
   },
   "outputs": [
    {
     "data": {
      "text/html": [
       "<div>\n",
       "<style scoped>\n",
       "    .dataframe tbody tr th:only-of-type {\n",
       "        vertical-align: middle;\n",
       "    }\n",
       "\n",
       "    .dataframe tbody tr th {\n",
       "        vertical-align: top;\n",
       "    }\n",
       "\n",
       "    .dataframe thead th {\n",
       "        text-align: right;\n",
       "    }\n",
       "</style>\n",
       "<table border=\"1\" class=\"dataframe\">\n",
       "  <thead>\n",
       "    <tr style=\"text-align: right;\">\n",
       "      <th></th>\n",
       "      <th>date</th>\n",
       "      <th>id</th>\n",
       "      <th>sales</th>\n",
       "    </tr>\n",
       "  </thead>\n",
       "  <tbody>\n",
       "    <tr>\n",
       "      <th>0</th>\n",
       "      <td>2014-04-26</td>\n",
       "      <td>(HOUSEHOLD_1_001_WI_1_validation, 2014-05-03)</td>\n",
       "      <td>1</td>\n",
       "    </tr>\n",
       "    <tr>\n",
       "      <th>1</th>\n",
       "      <td>2014-04-27</td>\n",
       "      <td>(HOUSEHOLD_1_001_WI_1_validation, 2014-05-03)</td>\n",
       "      <td>0</td>\n",
       "    </tr>\n",
       "    <tr>\n",
       "      <th>2</th>\n",
       "      <td>2014-04-28</td>\n",
       "      <td>(HOUSEHOLD_1_001_WI_1_validation, 2014-05-03)</td>\n",
       "      <td>0</td>\n",
       "    </tr>\n",
       "    <tr>\n",
       "      <th>3</th>\n",
       "      <td>2014-04-29</td>\n",
       "      <td>(HOUSEHOLD_1_001_WI_1_validation, 2014-05-03)</td>\n",
       "      <td>1</td>\n",
       "    </tr>\n",
       "    <tr>\n",
       "      <th>4</th>\n",
       "      <td>2014-04-30</td>\n",
       "      <td>(HOUSEHOLD_1_001_WI_1_validation, 2014-05-03)</td>\n",
       "      <td>0</td>\n",
       "    </tr>\n",
       "  </tbody>\n",
       "</table>\n",
       "</div>"
      ],
      "text/plain": [
       "         date                                             id  sales\n",
       "0  2014-04-26  (HOUSEHOLD_1_001_WI_1_validation, 2014-05-03)      1\n",
       "1  2014-04-27  (HOUSEHOLD_1_001_WI_1_validation, 2014-05-03)      0\n",
       "2  2014-04-28  (HOUSEHOLD_1_001_WI_1_validation, 2014-05-03)      0\n",
       "3  2014-04-29  (HOUSEHOLD_1_001_WI_1_validation, 2014-05-03)      1\n",
       "4  2014-04-30  (HOUSEHOLD_1_001_WI_1_validation, 2014-05-03)      0"
      ]
     },
     "execution_count": 12,
     "metadata": {},
     "output_type": "execute_result"
    }
   ],
   "source": [
    "# create rolling windows\n",
    "df_rolled_ts = roll_time_series(df_melted, column_id='id', column_sort='date',\n",
    "                            max_timeshift=28, min_timeshift=7)\n",
    "df_rolled_ts.to_hdf('data/interim/rolled_ts_WI_1_HOUSEHOLD_1.h5', \\\n",
    "                    key='data', complevel=9)\n",
    "df_rolled_ts.head()"
   ]
  },
  {
   "cell_type": "markdown",
   "metadata": {
    "slideshow": {
     "slide_type": "slide"
    }
   },
   "source": [
    "### Feature Extraction <a name=\"extraction\"></a>\n",
    "Feature extraction in tsfresh computes a total of 794 time series features based on 63 time series characterisation methods. See all the feature types below."
   ]
  },
  {
   "cell_type": "markdown",
   "metadata": {
    "slideshow": {
     "slide_type": "slide"
    }
   },
   "source": [
    "Since there are such a large number of features, some of which are very computationally expensive to compute, tsfresh allows you to specify which features to extract by passing a dictionary in as the argument `default_fc_parameters=` in the function `extract_features()`. There are a couple of in-built functions that return dictionaries; `MinimalFCParameters()` (basic features like mean, variance, min, max...) and `EfficientFCParameters()` (all features that aren't especially expensive to compute).\n",
    "\n",
    "The idea behind this is that once we know which features actually end up being useful in a model, we can use this to specify the features to extract in our final pipeline for efficiency."
   ]
  },
  {
   "cell_type": "markdown",
   "metadata": {
    "slideshow": {
     "slide_type": "fragment"
    }
   },
   "source": [
    "For this demonstration, we'll use the minimal set of features, plus a selection of other mathematical features."
   ]
  },
  {
   "cell_type": "code",
   "execution_count": 21,
   "metadata": {
    "slideshow": {
     "slide_type": "subslide"
    }
   },
   "outputs": [],
   "source": [
    "fc_params = MinimalFCParameters()\n",
    "fc_params['kurtosis'] = None\n",
    "fc_params['skewness'] = None\n",
    "fc_params['fft_aggregated'] = [{'aggtype': 'kurtosis'},\n",
    "   {'aggtype': 'centroid'},\n",
    "   {'aggtype': 'skew'},\n",
    "   {'aggtype': 'variance'}]\n",
    "fc_params['partial_autocorrelation'] = [{'lag': 2},\n",
    "   {'lag': 4},\n",
    "   {'lag': 7}]\n",
    "fc_params['fft_coefficient'] = [{'coeff': 0, 'attr': 'real'},\n",
    "  {'coeff': 1, 'attr': 'real'},\n",
    "  {'coeff': 2, 'attr': 'real'},\n",
    "  {'coeff': 3, 'attr': 'real'},\n",
    "  {'coeff': 4, 'attr': 'real'},\n",
    "  {'coeff': 5, 'attr': 'real'}]"
   ]
  },
  {
   "cell_type": "code",
   "execution_count": 22,
   "metadata": {
    "slideshow": {
     "slide_type": "subslide"
    }
   },
   "outputs": [
    {
     "name": "stderr",
     "output_type": "stream",
     "text": [
      "Feature Extraction: 100%|██████████| 10/10 [04:05<00:00, 24.54s/it]\n"
     ]
    }
   ],
   "source": [
    "## FEATURE EXTRACTION #############################################################################\n",
    "X = extract_features(df_rolled_ts,\n",
    "                    column_id='id', column_sort='date',\n",
    "                    column_value='sales', impute_function=impute,\n",
    "                    default_fc_parameters=fc_params,\n",
    "                    show_warnings=False)"
   ]
  },
  {
   "cell_type": "code",
   "execution_count": 23,
   "metadata": {
    "slideshow": {
     "slide_type": "skip"
    }
   },
   "outputs": [],
   "source": [
    "# split up the two parts of the index and give them proper names\n",
    "X = X.set_index([X.index.map(lambda x: x[0]), X.index.map(lambda x: x[1])], drop=True)\n",
    "X.index.names = [\"id\", \"last_date\"]"
   ]
  },
  {
   "cell_type": "code",
   "execution_count": 24,
   "metadata": {
    "slideshow": {
     "slide_type": "skip"
    }
   },
   "outputs": [],
   "source": [
    "X.to_hdf('data/interim/restricted_features_HOUSEHOLD_1_WI_1.h5', key='data', complevel=9)"
   ]
  },
  {
   "cell_type": "markdown",
   "metadata": {
    "slideshow": {
     "slide_type": "subslide"
    }
   },
   "source": [
    "Now, we've got a DataFrame of time series features computed over rolling windows for each time series. Each row corresponds to one window and each column is a feature computed by `tsfresh`. The `MinimalFCParameters` setting was used, so only a handful of simple features were computed to save time and memory for this demonstration."
   ]
  },
  {
   "cell_type": "markdown",
   "metadata": {
    "slideshow": {
     "slide_type": "slide"
    }
   },
   "source": [
    "### Feature Selection <a name=\"selection\"></a>\n",
    "The large number of features generated needed to be filtered according to the FRESH algorithm. `tsfresh` provides an implementation of the feature selection process that can be applied to regression problems. There are two key steps in feature selection; hypothesis testing and false discovery rate correction.\n"
   ]
  },
  {
   "cell_type": "markdown",
   "metadata": {
    "slideshow": {
     "slide_type": "subslide"
    }
   },
   "source": [
    "There are two relevant hypothesis tests for regression; The Kolmogorov-Smirnov (KS) test and the Kendall rank test. For binary features and real targets, the KS test is used. In general, the KS test checks if two random variables $A$ and $B$ follow the same distribution:  \n",
    "\n",
    "$$H_0 = \\{f_A = f_B\\}, \\ H_1 = \\{f_A \\ne f_B\\}$$\n",
    "\n",
    "By conditionally modeling the distribution function of target $Y$ on the two\n",
    "possible values $x_1, x_2$ of the feature $X_i$ we can use the KS test to check if the distribution of $Y$ changes with different values of $X_i$. If it does, then the feature may be relevant."
   ]
  },
  {
   "cell_type": "markdown",
   "metadata": {
    "slideshow": {
     "slide_type": "subslide"
    }
   },
   "source": [
    "If both the target and the feature are real, then Kendall's rank test can be used to check if two continuous variables may be regarded as statistically dependent. The Kendall rank coefficient $\\tau$ is used as a test statistic, measuring the strength of monotonic association between $X_i$ and $Y$. If $(x_i, y_i)$ and $(x_j, y_j)$ are pairs of observations of the joint random variables $X$ and $Y$, where $i < j$ and $i,j \\in \\{1, ..., n\\}$:\n",
    "\n",
    "$$\\tau = \\frac{2}{n(n-1)} \\sum_{i<j}{\\text{sgn}(x_i - x_j)\\text{sgn}(y_i - y_j)}$$"
   ]
  },
  {
   "cell_type": "markdown",
   "metadata": {
    "slideshow": {
     "slide_type": "subslide"
    }
   },
   "source": [
    "The final step is to do a false discovery rate (FDR) correction. FDR represents the overall proportion of null hypotheses that are incorrectly rejected. Since we are conducting many tests, there is an accumulation of statistical error that means we need to adjust our acceptance threshold. The FRESH algorithm controls for this using the Benjamini-Yekutieli (B-Y) procedure, introducing a parameter $\\alpha$ which controls the FDR. By default, $\\alpha$ is set to 0.05."
   ]
  },
  {
   "cell_type": "code",
   "execution_count": 319,
   "metadata": {
    "jupyter": {
     "source_hidden": true
    },
    "slideshow": {
     "slide_type": "slide"
    }
   },
   "outputs": [
    {
     "name": "stderr",
     "output_type": "stream",
     "text": [
      "Rolling: 100%|██████████| 10/10 [00:31<00:00,  3.10s/it]\n",
      "Feature Extraction: 100%|██████████| 10/10 [01:17<00:00,  7.75s/it]\n"
     ]
    }
   ],
   "source": [
    "## SMALL VERSION TO DEMONSTRATE LARGER SCALE SELECTION ############################################\n",
    "df_small = (train.sample(5)\n",
    "     .set_index('id')\n",
    "     .iloc[:,5:]\n",
    "     .T\n",
    "     .iloc[-730:,:])\n",
    "calendar.index = calendar['d']\n",
    "date_features = (calendar[calendar.index.isin(df_small.index)]\n",
    "                 .set_index('date'))\n",
    "df_small.index = date_features.index\n",
    "df_small['date'] = df_small.index\n",
    "df_small = df_small.melt(id_vars='date', value_name='sales')\n",
    "df_small_rolled = roll_time_series(df_small, column_id='id', column_sort='date',\n",
    "                            max_timeshift=28, min_timeshift=7)\n",
    "X_small = extract_features(df_small_rolled,\n",
    "                          column_id='id', column_sort='date',\n",
    "                    column_value='sales', impute_function=impute,\n",
    "                    default_fc_parameters=EfficientFCParameters(),\n",
    "                    show_warnings=False)"
   ]
  },
  {
   "cell_type": "code",
   "execution_count": 321,
   "metadata": {
    "jupyter": {
     "source_hidden": true
    },
    "slideshow": {
     "slide_type": "subslide"
    }
   },
   "outputs": [
    {
     "name": "stdout",
     "output_type": "stream",
     "text": [
      "Number of features before selection: 773\n",
      "Number of features after selection: 320\n"
     ]
    }
   ],
   "source": [
    "y_small = df_small.groupby(\"id\").apply(lambda x: x.set_index(\"date\")[\"sales\"].shift(-1)).T.unstack()\n",
    "y_small = y_small.loc[(slice(None), slice(\"2014-05-03\", \"2016-04-24\"))]\n",
    "drop_small = np.where(np.isnan(y_small.values))[0]\n",
    "y_small = y_small.drop(y_small.index[drop_small])\n",
    "X_small = X_small.drop(X_small.index[drop_small])\n",
    "# X_small = X_small.drop(X_small.index[drop_small])\n",
    "print('Number of features before selection:', X_small.shape[1])\n",
    "X_small_filt = select_features(X_small,y_small)\n",
    "print('Number of features after selection:', X_small_filt.shape[1])"
   ]
  },
  {
   "cell_type": "code",
   "execution_count": 190,
   "metadata": {
    "slideshow": {
     "slide_type": "slide"
    }
   },
   "outputs": [],
   "source": [
    "## FEATURE SELECTION ON TIME SERIES FEATURES ######################################################\n",
    "X = pd.read_hdf('data/interim/restricted_features_HOUSEHOLD_1_WI_1.h5')\n",
    "features = []\n",
    "targets = []\n",
    "horizons = [1, 4, 7]\n",
    "\n",
    "for horizon in horizons:\n",
    "    y = df_melted.groupby(\"id\").apply(lambda x: x.set_index(\"date\")[\"sales\"].shift(-horizon)).T.unstack()\n",
    "    y = y.loc[(slice(None), slice('2014-05-03', '2016-04-25'))]\n",
    "    drop = np.where(np.isnan(y.values))[0]\n",
    "    y = y.drop(y.index[drop])\n",
    "    X_h = X.drop(X.index[drop])\n",
    "    targets.append(y)\n",
    "    features.append(X_h)"
   ]
  },
  {
   "cell_type": "code",
   "execution_count": 194,
   "metadata": {
    "slideshow": {
     "slide_type": "subslide"
    }
   },
   "outputs": [
    {
     "name": "stdout",
     "output_type": "stream",
     "text": [
      "Number of features before selection: 24\n",
      "Number of features after selection: 23\n",
      "Number of features before selection: 24\n",
      "Number of features after selection: 22\n",
      "Number of features before selection: 24\n",
      "Number of features after selection: 23\n"
     ]
    }
   ],
   "source": [
    "features_filtered = []\n",
    "\n",
    "# first run feature selection to demonstrate the filtering process\n",
    "for i, dm in enumerate(features):    \n",
    "    dm['sales__irr'] = np.random.normal(size=len(dm)) # this feature should definitely be irrelevant\n",
    "    print('Number of features before selection:', dm.shape[1])\n",
    "    dm_filt = select_features(dm, targets[i], fdr_level=0.05)\n",
    "    print('Number of features after selection:', dm_filt.shape[1])\n",
    "    features_filtered.append(dm_filt)\n",
    "    "
   ]
  },
  {
   "cell_type": "markdown",
   "metadata": {
    "slideshow": {
     "slide_type": "fragment"
    }
   },
   "source": [
    "We can see that the filtering process removed at most 2 features from the design matrix. This is done by conducting hypothesis tests for each feature and then correcting the acceptance threshold using a false discovery rate control procedure. During `select_features()`, a test like this is done for each feature and the results are collated in a 'relevance table', where we can see the p-values for each feature. The B-Y procedure is applied and the relevance of each feature is evaluated based on it's p-value."
   ]
  },
  {
   "cell_type": "code",
   "execution_count": 195,
   "metadata": {
    "slideshow": {
     "slide_type": "slide"
    }
   },
   "outputs": [
    {
     "data": {
      "text/html": [
       "<div>\n",
       "<style scoped>\n",
       "    .dataframe tbody tr th:only-of-type {\n",
       "        vertical-align: middle;\n",
       "    }\n",
       "\n",
       "    .dataframe tbody tr th {\n",
       "        vertical-align: top;\n",
       "    }\n",
       "\n",
       "    .dataframe thead th {\n",
       "        text-align: right;\n",
       "    }\n",
       "</style>\n",
       "<table border=\"1\" class=\"dataframe\">\n",
       "  <thead>\n",
       "    <tr style=\"text-align: right;\">\n",
       "      <th></th>\n",
       "      <th>feature</th>\n",
       "      <th>type</th>\n",
       "      <th>p_value</th>\n",
       "      <th>relevant</th>\n",
       "    </tr>\n",
       "    <tr>\n",
       "      <th>feature</th>\n",
       "      <th></th>\n",
       "      <th></th>\n",
       "      <th></th>\n",
       "      <th></th>\n",
       "    </tr>\n",
       "  </thead>\n",
       "  <tbody>\n",
       "    <tr>\n",
       "      <th>sales__sum_values</th>\n",
       "      <td>sales__sum_values</td>\n",
       "      <td>real</td>\n",
       "      <td>0.000000e+00</td>\n",
       "      <td>True</td>\n",
       "    </tr>\n",
       "    <tr>\n",
       "      <th>sales__fft_coefficient__attr_\"real\"__coeff_4</th>\n",
       "      <td>sales__fft_coefficient__attr_\"real\"__coeff_4</td>\n",
       "      <td>real</td>\n",
       "      <td>0.000000e+00</td>\n",
       "      <td>True</td>\n",
       "    </tr>\n",
       "    <tr>\n",
       "      <th>sales__fft_coefficient__attr_\"real\"__coeff_0</th>\n",
       "      <td>sales__fft_coefficient__attr_\"real\"__coeff_0</td>\n",
       "      <td>real</td>\n",
       "      <td>0.000000e+00</td>\n",
       "      <td>True</td>\n",
       "    </tr>\n",
       "    <tr>\n",
       "      <th>sales__fft_aggregated__aggtype_\"variance\"</th>\n",
       "      <td>sales__fft_aggregated__aggtype_\"variance\"</td>\n",
       "      <td>real</td>\n",
       "      <td>0.000000e+00</td>\n",
       "      <td>True</td>\n",
       "    </tr>\n",
       "    <tr>\n",
       "      <th>sales__fft_aggregated__aggtype_\"skew\"</th>\n",
       "      <td>sales__fft_aggregated__aggtype_\"skew\"</td>\n",
       "      <td>real</td>\n",
       "      <td>0.000000e+00</td>\n",
       "      <td>True</td>\n",
       "    </tr>\n",
       "    <tr>\n",
       "      <th>sales__fft_aggregated__aggtype_\"kurtosis\"</th>\n",
       "      <td>sales__fft_aggregated__aggtype_\"kurtosis\"</td>\n",
       "      <td>real</td>\n",
       "      <td>0.000000e+00</td>\n",
       "      <td>True</td>\n",
       "    </tr>\n",
       "    <tr>\n",
       "      <th>sales__skewness</th>\n",
       "      <td>sales__skewness</td>\n",
       "      <td>real</td>\n",
       "      <td>0.000000e+00</td>\n",
       "      <td>True</td>\n",
       "    </tr>\n",
       "    <tr>\n",
       "      <th>sales__kurtosis</th>\n",
       "      <td>sales__kurtosis</td>\n",
       "      <td>real</td>\n",
       "      <td>0.000000e+00</td>\n",
       "      <td>True</td>\n",
       "    </tr>\n",
       "    <tr>\n",
       "      <th>sales__fft_aggregated__aggtype_\"centroid\"</th>\n",
       "      <td>sales__fft_aggregated__aggtype_\"centroid\"</td>\n",
       "      <td>real</td>\n",
       "      <td>0.000000e+00</td>\n",
       "      <td>True</td>\n",
       "    </tr>\n",
       "    <tr>\n",
       "      <th>sales__maximum</th>\n",
       "      <td>sales__maximum</td>\n",
       "      <td>real</td>\n",
       "      <td>0.000000e+00</td>\n",
       "      <td>True</td>\n",
       "    </tr>\n",
       "    <tr>\n",
       "      <th>sales__variance</th>\n",
       "      <td>sales__variance</td>\n",
       "      <td>real</td>\n",
       "      <td>0.000000e+00</td>\n",
       "      <td>True</td>\n",
       "    </tr>\n",
       "    <tr>\n",
       "      <th>sales__standard_deviation</th>\n",
       "      <td>sales__standard_deviation</td>\n",
       "      <td>real</td>\n",
       "      <td>0.000000e+00</td>\n",
       "      <td>True</td>\n",
       "    </tr>\n",
       "    <tr>\n",
       "      <th>sales__mean</th>\n",
       "      <td>sales__mean</td>\n",
       "      <td>real</td>\n",
       "      <td>0.000000e+00</td>\n",
       "      <td>True</td>\n",
       "    </tr>\n",
       "    <tr>\n",
       "      <th>sales__median</th>\n",
       "      <td>sales__median</td>\n",
       "      <td>real</td>\n",
       "      <td>0.000000e+00</td>\n",
       "      <td>True</td>\n",
       "    </tr>\n",
       "    <tr>\n",
       "      <th>sales__minimum</th>\n",
       "      <td>sales__minimum</td>\n",
       "      <td>real</td>\n",
       "      <td>0.000000e+00</td>\n",
       "      <td>True</td>\n",
       "    </tr>\n",
       "    <tr>\n",
       "      <th>sales__partial_autocorrelation__lag_4</th>\n",
       "      <td>sales__partial_autocorrelation__lag_4</td>\n",
       "      <td>real</td>\n",
       "      <td>3.895094e-140</td>\n",
       "      <td>True</td>\n",
       "    </tr>\n",
       "    <tr>\n",
       "      <th>sales__partial_autocorrelation__lag_7</th>\n",
       "      <td>sales__partial_autocorrelation__lag_7</td>\n",
       "      <td>real</td>\n",
       "      <td>9.668023e-138</td>\n",
       "      <td>True</td>\n",
       "    </tr>\n",
       "    <tr>\n",
       "      <th>sales__partial_autocorrelation__lag_2</th>\n",
       "      <td>sales__partial_autocorrelation__lag_2</td>\n",
       "      <td>real</td>\n",
       "      <td>4.036236e-62</td>\n",
       "      <td>True</td>\n",
       "    </tr>\n",
       "    <tr>\n",
       "      <th>sales__length</th>\n",
       "      <td>sales__length</td>\n",
       "      <td>real</td>\n",
       "      <td>4.133142e-46</td>\n",
       "      <td>True</td>\n",
       "    </tr>\n",
       "    <tr>\n",
       "      <th>sales__fft_coefficient__attr_\"real\"__coeff_3</th>\n",
       "      <td>sales__fft_coefficient__attr_\"real\"__coeff_3</td>\n",
       "      <td>real</td>\n",
       "      <td>1.138973e-21</td>\n",
       "      <td>True</td>\n",
       "    </tr>\n",
       "    <tr>\n",
       "      <th>sales__fft_coefficient__attr_\"real\"__coeff_5</th>\n",
       "      <td>sales__fft_coefficient__attr_\"real\"__coeff_5</td>\n",
       "      <td>real</td>\n",
       "      <td>4.380985e-12</td>\n",
       "      <td>True</td>\n",
       "    </tr>\n",
       "    <tr>\n",
       "      <th>sales__fft_coefficient__attr_\"real\"__coeff_2</th>\n",
       "      <td>sales__fft_coefficient__attr_\"real\"__coeff_2</td>\n",
       "      <td>real</td>\n",
       "      <td>1.594904e-11</td>\n",
       "      <td>True</td>\n",
       "    </tr>\n",
       "    <tr>\n",
       "      <th>sales__irr</th>\n",
       "      <td>sales__irr</td>\n",
       "      <td>real</td>\n",
       "      <td>1.157025e-01</td>\n",
       "      <td>False</td>\n",
       "    </tr>\n",
       "    <tr>\n",
       "      <th>sales__fft_coefficient__attr_\"real\"__coeff_1</th>\n",
       "      <td>sales__fft_coefficient__attr_\"real\"__coeff_1</td>\n",
       "      <td>real</td>\n",
       "      <td>1.281264e-01</td>\n",
       "      <td>False</td>\n",
       "    </tr>\n",
       "  </tbody>\n",
       "</table>\n",
       "</div>"
      ],
      "text/plain": [
       "                                                                                   feature  \\\n",
       "feature                                                                                      \n",
       "sales__sum_values                                                        sales__sum_values   \n",
       "sales__fft_coefficient__attr_\"real\"__coeff_4  sales__fft_coefficient__attr_\"real\"__coeff_4   \n",
       "sales__fft_coefficient__attr_\"real\"__coeff_0  sales__fft_coefficient__attr_\"real\"__coeff_0   \n",
       "sales__fft_aggregated__aggtype_\"variance\"        sales__fft_aggregated__aggtype_\"variance\"   \n",
       "sales__fft_aggregated__aggtype_\"skew\"                sales__fft_aggregated__aggtype_\"skew\"   \n",
       "sales__fft_aggregated__aggtype_\"kurtosis\"        sales__fft_aggregated__aggtype_\"kurtosis\"   \n",
       "sales__skewness                                                            sales__skewness   \n",
       "sales__kurtosis                                                            sales__kurtosis   \n",
       "sales__fft_aggregated__aggtype_\"centroid\"        sales__fft_aggregated__aggtype_\"centroid\"   \n",
       "sales__maximum                                                              sales__maximum   \n",
       "sales__variance                                                            sales__variance   \n",
       "sales__standard_deviation                                        sales__standard_deviation   \n",
       "sales__mean                                                                    sales__mean   \n",
       "sales__median                                                                sales__median   \n",
       "sales__minimum                                                              sales__minimum   \n",
       "sales__partial_autocorrelation__lag_4                sales__partial_autocorrelation__lag_4   \n",
       "sales__partial_autocorrelation__lag_7                sales__partial_autocorrelation__lag_7   \n",
       "sales__partial_autocorrelation__lag_2                sales__partial_autocorrelation__lag_2   \n",
       "sales__length                                                                sales__length   \n",
       "sales__fft_coefficient__attr_\"real\"__coeff_3  sales__fft_coefficient__attr_\"real\"__coeff_3   \n",
       "sales__fft_coefficient__attr_\"real\"__coeff_5  sales__fft_coefficient__attr_\"real\"__coeff_5   \n",
       "sales__fft_coefficient__attr_\"real\"__coeff_2  sales__fft_coefficient__attr_\"real\"__coeff_2   \n",
       "sales__irr                                                                      sales__irr   \n",
       "sales__fft_coefficient__attr_\"real\"__coeff_1  sales__fft_coefficient__attr_\"real\"__coeff_1   \n",
       "\n",
       "                                              type        p_value  relevant  \n",
       "feature                                                                      \n",
       "sales__sum_values                             real   0.000000e+00      True  \n",
       "sales__fft_coefficient__attr_\"real\"__coeff_4  real   0.000000e+00      True  \n",
       "sales__fft_coefficient__attr_\"real\"__coeff_0  real   0.000000e+00      True  \n",
       "sales__fft_aggregated__aggtype_\"variance\"     real   0.000000e+00      True  \n",
       "sales__fft_aggregated__aggtype_\"skew\"         real   0.000000e+00      True  \n",
       "sales__fft_aggregated__aggtype_\"kurtosis\"     real   0.000000e+00      True  \n",
       "sales__skewness                               real   0.000000e+00      True  \n",
       "sales__kurtosis                               real   0.000000e+00      True  \n",
       "sales__fft_aggregated__aggtype_\"centroid\"     real   0.000000e+00      True  \n",
       "sales__maximum                                real   0.000000e+00      True  \n",
       "sales__variance                               real   0.000000e+00      True  \n",
       "sales__standard_deviation                     real   0.000000e+00      True  \n",
       "sales__mean                                   real   0.000000e+00      True  \n",
       "sales__median                                 real   0.000000e+00      True  \n",
       "sales__minimum                                real   0.000000e+00      True  \n",
       "sales__partial_autocorrelation__lag_4         real  3.895094e-140      True  \n",
       "sales__partial_autocorrelation__lag_7         real  9.668023e-138      True  \n",
       "sales__partial_autocorrelation__lag_2         real   4.036236e-62      True  \n",
       "sales__length                                 real   4.133142e-46      True  \n",
       "sales__fft_coefficient__attr_\"real\"__coeff_3  real   1.138973e-21      True  \n",
       "sales__fft_coefficient__attr_\"real\"__coeff_5  real   4.380985e-12      True  \n",
       "sales__fft_coefficient__attr_\"real\"__coeff_2  real   1.594904e-11      True  \n",
       "sales__irr                                    real   1.157025e-01     False  \n",
       "sales__fft_coefficient__attr_\"real\"__coeff_1  real   1.281264e-01     False  "
      ]
     },
     "execution_count": 195,
     "metadata": {},
     "output_type": "execute_result"
    }
   ],
   "source": [
    "rel = calculate_relevance_table(features[1],targets[1])\n",
    "rel"
   ]
  },
  {
   "cell_type": "markdown",
   "metadata": {
    "slideshow": {
     "slide_type": "fragment"
    }
   },
   "source": [
    "We can see here that when the FDR level is left as default, only a randomly generated feature (sales__irr) and the 1st fourier real coefficient are deemed irrelevant. The way tsfresh assesses these features is a bit strange. Lets take a closer look at one of the fourier coefficient features."
   ]
  },
  {
   "cell_type": "code",
   "execution_count": 196,
   "metadata": {
    "slideshow": {
     "slide_type": "subslide"
    }
   },
   "outputs": [
    {
     "data": {
      "image/png": "[encoded data removed]",
      "text/plain": [
       "<Figure size 432x288 with 1 Axes>"
      ]
     },
     "metadata": {
      "needs_background": "light"
     },
     "output_type": "display_data"
    }
   ],
   "source": [
    "plt.scatter(features[0]['sales__fft_coefficient__attr_\"real\"__coeff_4'],targets[0])\n",
    "plt.ylabel('Next day sales')\n",
    "plt.xlabel('4th fourier coefficient of sales for last 28 days')\n",
    "plt.show()"
   ]
  },
  {
   "cell_type": "markdown",
   "metadata": {
    "slideshow": {
     "slide_type": "fragment"
    }
   },
   "source": [
    "Visually, we can see that this doesn't really give us much information for forecasting the next days sales on its own. Instead of actually looking at the correlation coefficient alongside the p-value, the hypothesis test just takes the p-value, even if the correlation is really low. The way that the `kendalltau` function works is that it returns the p-value for the null hypothesis that $\\tau$ = 0. Essentially, tsfresh is just keeping features where we *cannot* say that there is *no* correlation."
   ]
  },
  {
   "cell_type": "code",
   "execution_count": 197,
   "metadata": {
    "slideshow": {
     "slide_type": "subslide"
    }
   },
   "outputs": [
    {
     "name": "stdout",
     "output_type": "stream",
     "text": [
      "KendalltauResult(correlation=0.051523269489373254, pvalue=0.0)\n",
      "p-value used by tsfresh: 0.0\n"
     ]
    }
   ],
   "source": [
    "from scipy.stats import kendalltau\n",
    "print(kendalltau(features[0]['sales__fft_coefficient__attr_\"real\"__coeff_4'], targets[0]))\n",
    "print('p-value used by tsfresh:', target_real_feature_real_test(features[0]['sales__fft_coefficient__attr_\"real\"__coeff_4'], targets[0]))"
   ]
  },
  {
   "cell_type": "markdown",
   "metadata": {
    "slideshow": {
     "slide_type": "slide"
    }
   },
   "source": [
    "### Categorical Features\n",
    "\n",
    "Another thing we can look at is if the feature selection methodology will be useful for filtering categorical features. Again, the methods in tsfresh only consider each variable individually; it does not consider interactions when assessing feature relevance. We'll demonstrate how tsfresh handles these using provided categorical features from the m5 data. PROBLEM: we can't pass un-encoded categorical variables into the hypothesis tests as they only accept numeric values."
   ]
  },
  {
   "cell_type": "code",
   "execution_count": 12,
   "metadata": {
    "slideshow": {
     "slide_type": "skip"
    }
   },
   "outputs": [],
   "source": [
    "df_rolled_ts = pd.read_hdf('data/interim/rolled_ts_WI_1_HOUSEHOLD_1.h5')"
   ]
  },
  {
   "cell_type": "code",
   "execution_count": 13,
   "metadata": {
    "slideshow": {
     "slide_type": "skip"
    }
   },
   "outputs": [],
   "source": [
    "df_rolled_ts.set_index('id', inplace=True)\n",
    "df_rolled_ts['last_date'] = [x[1] for x in df_rolled_ts.index.values]\n",
    "df_rolled_last = df_rolled_ts[df_rolled_ts['date'] == df_rolled_ts['last_date']]\n",
    "df_rolled_last = df_rolled_last.drop(df_rolled_last.index[drop])\n",
    "df_rolled_last['prod_id'] = df_rolled_last.index.map(lambda x: x[0])\n",
    "X_cat = ( df_rolled_last.merge(cat_features, how='left', on='prod_id')\n",
    "         .set_index(X.index)\n",
    "         .drop(columns=['date','sales','prod_id','last_date']) ) "
   ]
  },
  {
   "cell_type": "code",
   "execution_count": 26,
   "metadata": {
    "slideshow": {
     "slide_type": "skip"
    }
   },
   "outputs": [],
   "source": [
    "# these vars are already encoded\n",
    "X_cal = (df_rolled_last.merge(calendar, on='date', how='left')\n",
    "         .set_index(X.index)\n",
    "         .assign(event=lambda x: -pd.isna(x.event_name_1))\n",
    "         .drop(columns=['last_date','prod_id','d','snap_CA','snap_TX','event_name_1', 'event_type_1', 'event_name_2', 'event_type_2','date','weekday']))"
   ]
  },
  {
   "cell_type": "markdown",
   "metadata": {
    "slideshow": {
     "slide_type": "fragment"
    }
   },
   "source": [
    "Try with one-hot encoding, target encoding and leave-one-out encoding."
   ]
  },
  {
   "cell_type": "code",
   "execution_count": 15,
   "metadata": {
    "slideshow": {
     "slide_type": "skip"
    }
   },
   "outputs": [],
   "source": [
    "import category_encoders as ce\n",
    "te = ce.TargetEncoder()"
   ]
  },
  {
   "cell_type": "code",
   "execution_count": 17,
   "metadata": {
    "slideshow": {
     "slide_type": "fragment"
    }
   },
   "outputs": [
    {
     "name": "stderr",
     "output_type": "stream",
     "text": [
      "/Users/kartikeyvyas/miniconda3/lib/python3.8/site-packages/category_encoders/utils.py:21: FutureWarning: is_categorical is deprecated and will be removed in a future version.  Use is_categorical_dtype instead\n",
      "  elif pd.api.types.is_categorical(cols):\n"
     ]
    }
   ],
   "source": [
    "X_cat_oh = pd.get_dummies(X_cat)\n",
    "X_cat_te = te.fit_transform(X_cat, y)"
   ]
  },
  {
   "cell_type": "code",
   "execution_count": 76,
   "metadata": {
    "slideshow": {
     "slide_type": "subslide"
    }
   },
   "outputs": [
    {
     "name": "stdout",
     "output_type": "stream",
     "text": [
      "One-hot encoding\n",
      "Number of features before filtering: 535\n",
      "Number of features after filtering: 505\n"
     ]
    }
   ],
   "source": [
    "print('One-hot encoding')\n",
    "print('Number of features before filtering:', X_cat_oh.shape[1])\n",
    "X_cat_oh_filt = select_features(X_cat_oh, y)\n",
    "print('Number of features after filtering:', X_cat_oh_filt.shape[1])"
   ]
  },
  {
   "cell_type": "code",
   "execution_count": 83,
   "metadata": {
    "slideshow": {
     "slide_type": "skip"
    }
   },
   "outputs": [
    {
     "data": {
      "text/plain": [
       "532"
      ]
     },
     "execution_count": 83,
     "metadata": {},
     "output_type": "execute_result"
    }
   ],
   "source": [
    "X_cat.item_id.nunique()"
   ]
  },
  {
   "cell_type": "code",
   "execution_count": 96,
   "metadata": {
    "slideshow": {
     "slide_type": "skip"
    }
   },
   "outputs": [
    {
     "data": {
      "text/plain": [
       "False"
      ]
     },
     "execution_count": 96,
     "metadata": {},
     "output_type": "execute_result"
    }
   ],
   "source": [
    "X_cat_oh_filt.columns.str.contains('dept').any() or X_cat_oh_filt.columns.str.contains('store').any() or X_cat_oh_filt.columns.str.contains('cat').any()"
   ]
  },
  {
   "cell_type": "code",
   "execution_count": 18,
   "metadata": {
    "slideshow": {
     "slide_type": "subslide"
    }
   },
   "outputs": [
    {
     "name": "stdout",
     "output_type": "stream",
     "text": [
      "Target encoding\n",
      "Number of features before filtering: 4\n",
      "Number of features after filtering: 1\n"
     ]
    }
   ],
   "source": [
    "print('Target encoding')\n",
    "print('Number of features before filtering:', X_cat_te.shape[1])\n",
    "X_cat_te_filt = select_features(X_cat_te, y)\n",
    "print('Number of features after filtering:', X_cat_te_filt.shape[1])"
   ]
  },
  {
   "cell_type": "code",
   "execution_count": 82,
   "metadata": {
    "slideshow": {
     "slide_type": "fragment"
    }
   },
   "outputs": [
    {
     "name": "stdout",
     "output_type": "stream",
     "text": [
      "['item_id']\n"
     ]
    }
   ],
   "source": [
    "print(X_cat_te_filt.columns.values)"
   ]
  },
  {
   "cell_type": "code",
   "execution_count": 79,
   "metadata": {
    "slideshow": {
     "slide_type": "subslide"
    }
   },
   "outputs": [
    {
     "data": {
      "text/plain": [
       "Text(0, 0.5, 'Next day sales')"
      ]
     },
     "execution_count": 79,
     "metadata": {},
     "output_type": "execute_result"
    },
    {
     "data": {
      "image/png": "[encoded data removed]",
      "text/plain": [
       "<Figure size 432x288 with 1 Axes>"
      ]
     },
     "metadata": {
      "needs_background": "light"
     },
     "output_type": "display_data"
    }
   ],
   "source": [
    "plt.scatter(X_cat_te_filt, y)\n",
    "plt.xlabel('item_id (target encoded)')\n",
    "plt.ylabel('Next day sales')"
   ]
  },
  {
   "cell_type": "markdown",
   "metadata": {
    "slideshow": {
     "slide_type": "fragment"
    }
   },
   "source": [
    "We can see that this does what we would have expected. Since we're only using data from one department in one store, the features `dept_id`, `cat_id` and `store_id` would be the same for every observation and therefore irrelevant. The only relevant categorical variable in this case is `item_id` and we can see the relationship between the feature and the next day sales. This is true for both the one-hot and target encoding methods. One-hot encoding restricts the feature more than target encoding when feature selection is conducted, returning only 505 features while there were 532 features generated from the `item_id` column. Let's take a look at the relevance table for this set."
   ]
  },
  {
   "cell_type": "code",
   "execution_count": 97,
   "metadata": {
    "slideshow": {
     "slide_type": "subslide"
    }
   },
   "outputs": [
    {
     "data": {
      "text/html": [
       "<div>\n",
       "<style scoped>\n",
       "    .dataframe tbody tr th:only-of-type {\n",
       "        vertical-align: middle;\n",
       "    }\n",
       "\n",
       "    .dataframe tbody tr th {\n",
       "        vertical-align: top;\n",
       "    }\n",
       "\n",
       "    .dataframe thead th {\n",
       "        text-align: right;\n",
       "    }\n",
       "</style>\n",
       "<table border=\"1\" class=\"dataframe\">\n",
       "  <thead>\n",
       "    <tr style=\"text-align: right;\">\n",
       "      <th></th>\n",
       "      <th>feature</th>\n",
       "      <th>type</th>\n",
       "      <th>p_value</th>\n",
       "      <th>relevant</th>\n",
       "    </tr>\n",
       "    <tr>\n",
       "      <th>feature</th>\n",
       "      <th></th>\n",
       "      <th></th>\n",
       "      <th></th>\n",
       "      <th></th>\n",
       "    </tr>\n",
       "  </thead>\n",
       "  <tbody>\n",
       "    <tr>\n",
       "      <th>item_id_HOUSEHOLD_1_529</th>\n",
       "      <td>item_id_HOUSEHOLD_1_529</td>\n",
       "      <td>binary</td>\n",
       "      <td>0.005341</td>\n",
       "      <td>True</td>\n",
       "    </tr>\n",
       "    <tr>\n",
       "      <th>item_id_HOUSEHOLD_1_208</th>\n",
       "      <td>item_id_HOUSEHOLD_1_208</td>\n",
       "      <td>binary</td>\n",
       "      <td>0.005419</td>\n",
       "      <td>True</td>\n",
       "    </tr>\n",
       "    <tr>\n",
       "      <th>item_id_HOUSEHOLD_1_171</th>\n",
       "      <td>item_id_HOUSEHOLD_1_171</td>\n",
       "      <td>binary</td>\n",
       "      <td>0.006841</td>\n",
       "      <td>True</td>\n",
       "    </tr>\n",
       "    <tr>\n",
       "      <th>item_id_HOUSEHOLD_1_076</th>\n",
       "      <td>item_id_HOUSEHOLD_1_076</td>\n",
       "      <td>binary</td>\n",
       "      <td>0.006886</td>\n",
       "      <td>True</td>\n",
       "    </tr>\n",
       "    <tr>\n",
       "      <th>item_id_HOUSEHOLD_1_455</th>\n",
       "      <td>item_id_HOUSEHOLD_1_455</td>\n",
       "      <td>binary</td>\n",
       "      <td>0.006886</td>\n",
       "      <td>True</td>\n",
       "    </tr>\n",
       "    <tr>\n",
       "      <th>item_id_HOUSEHOLD_1_522</th>\n",
       "      <td>item_id_HOUSEHOLD_1_522</td>\n",
       "      <td>binary</td>\n",
       "      <td>0.007994</td>\n",
       "      <td>False</td>\n",
       "    </tr>\n",
       "    <tr>\n",
       "      <th>item_id_HOUSEHOLD_1_093</th>\n",
       "      <td>item_id_HOUSEHOLD_1_093</td>\n",
       "      <td>binary</td>\n",
       "      <td>0.011185</td>\n",
       "      <td>False</td>\n",
       "    </tr>\n",
       "    <tr>\n",
       "      <th>item_id_HOUSEHOLD_1_289</th>\n",
       "      <td>item_id_HOUSEHOLD_1_289</td>\n",
       "      <td>binary</td>\n",
       "      <td>0.012298</td>\n",
       "      <td>False</td>\n",
       "    </tr>\n",
       "    <tr>\n",
       "      <th>item_id_HOUSEHOLD_1_266</th>\n",
       "      <td>item_id_HOUSEHOLD_1_266</td>\n",
       "      <td>binary</td>\n",
       "      <td>0.014183</td>\n",
       "      <td>False</td>\n",
       "    </tr>\n",
       "    <tr>\n",
       "      <th>item_id_HOUSEHOLD_1_069</th>\n",
       "      <td>item_id_HOUSEHOLD_1_069</td>\n",
       "      <td>binary</td>\n",
       "      <td>0.017993</td>\n",
       "      <td>False</td>\n",
       "    </tr>\n",
       "  </tbody>\n",
       "</table>\n",
       "</div>"
      ],
      "text/plain": [
       "                                         feature    type   p_value  relevant\n",
       "feature                                                                     \n",
       "item_id_HOUSEHOLD_1_529  item_id_HOUSEHOLD_1_529  binary  0.005341      True\n",
       "item_id_HOUSEHOLD_1_208  item_id_HOUSEHOLD_1_208  binary  0.005419      True\n",
       "item_id_HOUSEHOLD_1_171  item_id_HOUSEHOLD_1_171  binary  0.006841      True\n",
       "item_id_HOUSEHOLD_1_076  item_id_HOUSEHOLD_1_076  binary  0.006886      True\n",
       "item_id_HOUSEHOLD_1_455  item_id_HOUSEHOLD_1_455  binary  0.006886      True\n",
       "item_id_HOUSEHOLD_1_522  item_id_HOUSEHOLD_1_522  binary  0.007994     False\n",
       "item_id_HOUSEHOLD_1_093  item_id_HOUSEHOLD_1_093  binary  0.011185     False\n",
       "item_id_HOUSEHOLD_1_289  item_id_HOUSEHOLD_1_289  binary  0.012298     False\n",
       "item_id_HOUSEHOLD_1_266  item_id_HOUSEHOLD_1_266  binary  0.014183     False\n",
       "item_id_HOUSEHOLD_1_069  item_id_HOUSEHOLD_1_069  binary  0.017993     False"
      ]
     },
     "execution_count": 97,
     "metadata": {},
     "output_type": "execute_result"
    }
   ],
   "source": [
    "rel_cat = calculate_relevance_table(X_cat_oh, y)\n",
    "rel_cat.iloc[500:510, :]"
   ]
  },
  {
   "cell_type": "code",
   "execution_count": 31,
   "metadata": {
    "slideshow": {
     "slide_type": "subslide"
    }
   },
   "outputs": [
    {
     "data": {
      "text/html": [
       "<div>\n",
       "<style scoped>\n",
       "    .dataframe tbody tr th:only-of-type {\n",
       "        vertical-align: middle;\n",
       "    }\n",
       "\n",
       "    .dataframe tbody tr th {\n",
       "        vertical-align: top;\n",
       "    }\n",
       "\n",
       "    .dataframe thead th {\n",
       "        text-align: right;\n",
       "    }\n",
       "</style>\n",
       "<table border=\"1\" class=\"dataframe\">\n",
       "  <thead>\n",
       "    <tr style=\"text-align: right;\">\n",
       "      <th></th>\n",
       "      <th>feature</th>\n",
       "      <th>type</th>\n",
       "      <th>p_value</th>\n",
       "      <th>relevant</th>\n",
       "    </tr>\n",
       "    <tr>\n",
       "      <th>feature</th>\n",
       "      <th></th>\n",
       "      <th></th>\n",
       "      <th></th>\n",
       "      <th></th>\n",
       "    </tr>\n",
       "  </thead>\n",
       "  <tbody>\n",
       "    <tr>\n",
       "      <th>sales</th>\n",
       "      <td>sales</td>\n",
       "      <td>real</td>\n",
       "      <td>0.000000e+00</td>\n",
       "      <td>True</td>\n",
       "    </tr>\n",
       "    <tr>\n",
       "      <th>year</th>\n",
       "      <td>year</td>\n",
       "      <td>real</td>\n",
       "      <td>5.564552e-254</td>\n",
       "      <td>True</td>\n",
       "    </tr>\n",
       "    <tr>\n",
       "      <th>wm_yr_wk</th>\n",
       "      <td>wm_yr_wk</td>\n",
       "      <td>real</td>\n",
       "      <td>2.395193e-245</td>\n",
       "      <td>True</td>\n",
       "    </tr>\n",
       "    <tr>\n",
       "      <th>wday</th>\n",
       "      <td>wday</td>\n",
       "      <td>real</td>\n",
       "      <td>1.254007e-131</td>\n",
       "      <td>True</td>\n",
       "    </tr>\n",
       "    <tr>\n",
       "      <th>month</th>\n",
       "      <td>month</td>\n",
       "      <td>real</td>\n",
       "      <td>9.253020e-35</td>\n",
       "      <td>True</td>\n",
       "    </tr>\n",
       "    <tr>\n",
       "      <th>event</th>\n",
       "      <td>event</td>\n",
       "      <td>binary</td>\n",
       "      <td>2.425586e-09</td>\n",
       "      <td>True</td>\n",
       "    </tr>\n",
       "    <tr>\n",
       "      <th>snap_WI</th>\n",
       "      <td>snap_WI</td>\n",
       "      <td>binary</td>\n",
       "      <td>9.888027e-01</td>\n",
       "      <td>False</td>\n",
       "    </tr>\n",
       "  </tbody>\n",
       "</table>\n",
       "</div>"
      ],
      "text/plain": [
       "           feature    type        p_value  relevant\n",
       "feature                                            \n",
       "sales        sales    real   0.000000e+00      True\n",
       "year          year    real  5.564552e-254      True\n",
       "wm_yr_wk  wm_yr_wk    real  2.395193e-245      True\n",
       "wday          wday    real  1.254007e-131      True\n",
       "month        month    real   9.253020e-35      True\n",
       "event        event  binary   2.425586e-09      True\n",
       "snap_WI    snap_WI  binary   9.888027e-01     False"
      ]
     },
     "execution_count": 31,
     "metadata": {},
     "output_type": "execute_result"
    }
   ],
   "source": [
    "rel_cal = calculate_relevance_table(X_cal, y)\n",
    "X_cal_filt = select_features(X_cal,y)\n",
    "rel_cal"
   ]
  },
  {
   "cell_type": "code",
   "execution_count": 111,
   "metadata": {
    "slideshow": {
     "slide_type": "subslide"
    }
   },
   "outputs": [
    {
     "data": {
      "text/plain": [
       "Text(0.5, 1.0, 'Relevant Feature')"
      ]
     },
     "execution_count": 111,
     "metadata": {},
     "output_type": "execute_result"
    },
    {
     "data": {
      "image/png": "[encoded data removed]",
      "text/plain": [
       "<Figure size 432x288 with 1 Axes>"
      ]
     },
     "metadata": {
      "needs_background": "light"
     },
     "output_type": "display_data"
    }
   ],
   "source": [
    "sns.violinplot(x=X_cat_oh['item_id_HOUSEHOLD_1_459'], y=y)\n",
    "plt.title('Relevant Feature')"
   ]
  },
  {
   "cell_type": "code",
   "execution_count": 112,
   "metadata": {
    "slideshow": {
     "slide_type": "subslide"
    }
   },
   "outputs": [
    {
     "data": {
      "text/plain": [
       "Text(0.5, 1.0, 'Irrelevant Feature')"
      ]
     },
     "execution_count": 112,
     "metadata": {},
     "output_type": "execute_result"
    },
    {
     "data": {
      "image/png": "[encoded data removed]",
      "text/plain": [
       "<Figure size 432x288 with 1 Axes>"
      ]
     },
     "metadata": {
      "needs_background": "light"
     },
     "output_type": "display_data"
    }
   ],
   "source": [
    "sns.violinplot(x=X_cat_oh['item_id_HOUSEHOLD_1_289'], y=y)\n",
    "plt.title('Irrelevant Feature')"
   ]
  },
  {
   "cell_type": "markdown",
   "metadata": {
    "slideshow": {
     "slide_type": "fragment"
    }
   },
   "source": [
    "We can see from the distribution plots that the highly relevant feature shows very different distributions for the target variable when conditionally modeled on the feature, while for the irrelevant feature the distributions are much more similar. The way that tsfresh uses hypothesis tests when at least one of the feature or target are binary, results in more meaningful feature selection."
   ]
  },
  {
   "cell_type": "markdown",
   "metadata": {
    "slideshow": {
     "slide_type": "slide"
    }
   },
   "source": [
    "## Regression (Forecasting) <a name=\"reg\"></a>\n",
    "Now, we'll see how a LightGBM regression tree fares using these features."
   ]
  },
  {
   "cell_type": "code",
   "execution_count": 237,
   "metadata": {
    "slideshow": {
     "slide_type": "skip"
    }
   },
   "outputs": [],
   "source": [
    "from sklearn.model_selection import TimeSeriesSplit\n",
    "from sklearn.ensemble import GradientBoostingRegressor\n",
    "import lightgbm as lgb"
   ]
  },
  {
   "cell_type": "code",
   "execution_count": 207,
   "metadata": {
    "slideshow": {
     "slide_type": "skip"
    }
   },
   "outputs": [],
   "source": [
    "full_dms = []\n",
    "for i, dm in enumerate(features_filtered):\n",
    "    X = dm.merge(X_cat_te_filt, left_index=True, right_index=True)\n",
    "    X = X.merge(X_cal_filt, left_index=True, right_index=True)\n",
    "    X['horizon'] = horizons[i]\n",
    "    full_dms.append(X)\n",
    "    del X"
   ]
  },
  {
   "cell_type": "code",
   "execution_count": 221,
   "metadata": {
    "slideshow": {
     "slide_type": "skip"
    }
   },
   "outputs": [],
   "source": [
    "X = pd.concat(full_dms, axis=0)\n",
    "X['horizon'] = X['horizon'].astype('category')\n",
    "X.columns = X.columns.str.replace('\"','')\n",
    "y = pd.concat(targets, axis=0)"
   ]
  },
  {
   "cell_type": "code",
   "execution_count": 222,
   "metadata": {
    "slideshow": {
     "slide_type": "skip"
    }
   },
   "outputs": [],
   "source": [
    "X_train, y_train = X[X.index.map(lambda x:x[1]) <= '2015-05-02'], y[y.index.map(lambda x:x[1]) <= '2015-05-02']\n",
    "X_test, y_test = X[X.index.map(lambda x:x[1]) > '2015-05-02'], y[y.index.map(lambda x:x[1]) > '2015-05-02']"
   ]
  },
  {
   "cell_type": "code",
   "execution_count": 322,
   "metadata": {
    "slideshow": {
     "slide_type": "skip"
    }
   },
   "outputs": [],
   "source": [
    "trn = lgb.Dataset(data=X_train, label=y_train)\n",
    "val = lgb.Dataset(data=X_test, label=y_test)"
   ]
  },
  {
   "cell_type": "code",
   "execution_count": 224,
   "metadata": {
    "slideshow": {
     "slide_type": "subslide"
    }
   },
   "outputs": [],
   "source": [
    "params = {\n",
    "    \"objective\": \"tweedie\"\n",
    "}"
   ]
  },
  {
   "cell_type": "code",
   "execution_count": 323,
   "metadata": {},
   "outputs": [],
   "source": [
    "def wape(y_true, y_pred):\n",
    "    return np.sum(np.where(y_true > 0, np.abs(y_true - np.round(y_pred)), 0)) / np.sum(y_true)\n",
    "\n",
    "def lgb_wape(y_pred, train_data):\n",
    "    y_true = train_data.get_label()\n",
    "    wape_val = wape(y_true, y_pred)\n",
    "    return \"wape\", wape_val, False\n",
    "\n",
    "def bias(y_true, y_pred):\n",
    "    return (np.sum(np.round(y_pred)) - np.sum(y_true))/np.sum(y_true)\n",
    "\n",
    "def lgb_bias(y_pred, train_data):\n",
    "    y_true = train_data.get_label()\n",
    "    bias_val = bias(y_true, y_pred)\n",
    "    return \"bias\", bias_val, False\n",
    "\n",
    "def lgb_biobj(y_pred, train_data):\n",
    "    y_true = train_data.get_label()\n",
    "    bias_val = bias(y_true, y_pred)\n",
    "    bias_contrib_val = 1000*((bias_val-0.2)**6)\n",
    "    wape_val = wape(y_true, y_pred)\n",
    "    return \"biobj\", wape_val + bias_contrib_val, False"
   ]
  },
  {
   "cell_type": "code",
   "execution_count": 225,
   "metadata": {
    "slideshow": {
     "slide_type": "subslide"
    }
   },
   "outputs": [
    {
     "name": "stdout",
     "output_type": "stream",
     "text": [
      "[LightGBM] [Warning] Auto-choosing row-wise multi-threading, the overhead of testing was 0.020671 seconds.\n",
      "You can set `force_row_wise=true` to remove the overhead.\n",
      "And if memory is not enough, you can set `force_col_wise=true`.\n",
      "[LightGBM] [Info] Total Bins 5292\n",
      "[LightGBM] [Info] Number of data points in the train set: 582540, number of used features: 31\n"
     ]
    },
    {
     "name": "stderr",
     "output_type": "stream",
     "text": [
      "/Users/kartikeyvyas/miniconda3/lib/python3.8/site-packages/lightgbm/basic.py:1286: UserWarning: Overriding the parameters from Reference Dataset.\n",
      "  warnings.warn('Overriding the parameters from Reference Dataset.')\n",
      "/Users/kartikeyvyas/miniconda3/lib/python3.8/site-packages/lightgbm/basic.py:1098: UserWarning: categorical_column in param dict is overridden.\n",
      "  warnings.warn('{} in param dict is overridden.'.format(cat_alias))\n"
     ]
    },
    {
     "name": "stdout",
     "output_type": "stream",
     "text": [
      "[LightGBM] [Info] Start training from score -0.083665\n",
      "Training until validation scores don't improve for 200 rounds\n",
      "[50]\tvalid_0's tweedie: 3.68861\tvalid_0's wape: 0.500182\tvalid_0's bias: -0.0864609\tvalid_0's biobj: 1.05276\n",
      "[100]\tvalid_0's tweedie: 3.69032\tvalid_0's wape: 0.501078\tvalid_0's bias: -0.088284\tvalid_0's biobj: 1.07509\n",
      "[150]\tvalid_0's tweedie: 3.69366\tvalid_0's wape: 0.504019\tvalid_0's bias: -0.093457\tvalid_0's biobj: 1.14267\n",
      "[200]\tvalid_0's tweedie: 3.70051\tvalid_0's wape: 0.511489\tvalid_0's bias: -0.112226\tvalid_0's biobj: 1.43793\n",
      "Did not meet early stopping. Best iteration is:\n",
      "[49]\tvalid_0's tweedie: 3.68852\tvalid_0's wape: 0.500125\tvalid_0's bias: -0.0869008\tvalid_0's biobj: 1.05781\n"
     ]
    }
   ],
   "source": [
    "bst = lgb.train(params, train_set=trn, valid_sets=[val],\n",
    "                feval=lambda *xs: [lgb_wape(*xs), lgb_bias(*xs), lgb_biobj(*xs)],\n",
    "                num_boost_round=200,\n",
    "                early_stopping_rounds=200,\n",
    "                verbose_eval=50)"
   ]
  },
  {
   "cell_type": "code",
   "execution_count": 226,
   "metadata": {
    "slideshow": {
     "slide_type": "subslide"
    }
   },
   "outputs": [
    {
     "data": {
      "text/plain": [
       "<AxesSubplot:title={'center':'Feature importance'}, xlabel='Feature importance', ylabel='Features'>"
      ]
     },
     "execution_count": 226,
     "metadata": {},
     "output_type": "execute_result"
    },
    {
     "data": {
      "image/png": "[encoded data removed]",
      "text/plain": [
       "<Figure size 432x288 with 1 Axes>"
      ]
     },
     "metadata": {
      "needs_background": "light"
     },
     "output_type": "display_data"
    }
   ],
   "source": [
    "lgb.plot_importance(bst)"
   ]
  },
  {
   "cell_type": "markdown",
   "metadata": {
    "slideshow": {
     "slide_type": "fragment"
    }
   },
   "source": [
    "We get a WAPE of 50% and a BIAS of -9%. The best features are `item_id` (expected), followed by some date features, including the forecast horizon."
   ]
  },
  {
   "cell_type": "code",
   "execution_count": 229,
   "metadata": {
    "slideshow": {
     "slide_type": "subslide"
    }
   },
   "outputs": [
    {
     "name": "stdout",
     "output_type": "stream",
     "text": [
      "[LightGBM] [Warning] Auto-choosing row-wise multi-threading, the overhead of testing was 0.025860 seconds.\n",
      "You can set `force_row_wise=true` to remove the overhead.\n",
      "And if memory is not enough, you can set `force_col_wise=true`.\n",
      "[LightGBM] [Info] Total Bins 4932\n",
      "[LightGBM] [Info] Number of data points in the train set: 582540, number of used features: 24\n"
     ]
    },
    {
     "name": "stderr",
     "output_type": "stream",
     "text": [
      "/Users/kartikeyvyas/miniconda3/lib/python3.8/site-packages/lightgbm/basic.py:1286: UserWarning: Overriding the parameters from Reference Dataset.\n",
      "  warnings.warn('Overriding the parameters from Reference Dataset.')\n",
      "/Users/kartikeyvyas/miniconda3/lib/python3.8/site-packages/lightgbm/basic.py:1098: UserWarning: categorical_column in param dict is overridden.\n",
      "  warnings.warn('{} in param dict is overridden.'.format(cat_alias))\n"
     ]
    },
    {
     "name": "stdout",
     "output_type": "stream",
     "text": [
      "[LightGBM] [Info] Start training from score -0.083665\n",
      "Training until validation scores don't improve for 200 rounds\n",
      "[50]\tvalid_0's tweedie: 3.71193\tvalid_0's wape: 0.498618\tvalid_0's bias: -0.0415873\tvalid_0's biobj: 0.697431\n",
      "[100]\tvalid_0's tweedie: 3.71171\tvalid_0's wape: 0.498412\tvalid_0's bias: -0.0373365\tvalid_0's biobj: 0.677138\n",
      "[150]\tvalid_0's tweedie: 3.71225\tvalid_0's wape: 0.498743\tvalid_0's bias: -0.0374131\tvalid_0's biobj: 0.677815\n",
      "[200]\tvalid_0's tweedie: 3.71287\tvalid_0's wape: 0.499479\tvalid_0's bias: -0.039435\tvalid_0's biobj: 0.687899\n",
      "Did not meet early stopping. Best iteration is:\n",
      "[64]\tvalid_0's tweedie: 3.71163\tvalid_0's wape: 0.498411\tvalid_0's bias: -0.0391792\tvalid_0's biobj: 0.685626\n"
     ]
    }
   ],
   "source": [
    "full_ts = []\n",
    "for i, dm in enumerate(features_filtered):\n",
    "    dm['horizon'] = horizons[i]\n",
    "    full_ts.append(dm)\n",
    "\n",
    "X_ts = pd.concat(full_ts, axis=0)\n",
    "X_ts['horizon'] = X_ts['horizon'].astype('category')\n",
    "X_ts.columns = X_ts.columns.str.replace('\"','')\n",
    "\n",
    "# Using ONLY tsfresh features\n",
    "X_train, y_train = X_ts[X_ts.index.map(lambda x:x[1]) <= '2015-05-02'], y[y.index.map(lambda x:x[1]) <= '2015-05-02']\n",
    "X_test, y_test = X_ts[X_ts.index.map(lambda x:x[1]) > '2015-05-02'], y[y.index.map(lambda x:x[1]) > '2015-05-02']\n",
    "\n",
    "# just one forecast horizon - next day of sales\n",
    "trn_ts = lgb.Dataset(data=X_train, label=y_train)\n",
    "val_ts = lgb.Dataset(data=X_test, label=y_test)\n",
    "bst_ts = lgb.train(params, train_set=trn_ts, valid_sets=[val_ts],\n",
    "                   feval=lambda *xs: [lgb_wape(*xs), lgb_bias(*xs), lgb_biobj(*xs)],\n",
    "                   num_boost_round=200,\n",
    "                   early_stopping_rounds=200,\n",
    "                   verbose_eval=50)"
   ]
  },
  {
   "cell_type": "code",
   "execution_count": 230,
   "metadata": {
    "slideshow": {
     "slide_type": "subslide"
    }
   },
   "outputs": [
    {
     "data": {
      "text/plain": [
       "<AxesSubplot:title={'center':'Feature importance'}, xlabel='Feature importance', ylabel='Features'>"
      ]
     },
     "execution_count": 230,
     "metadata": {},
     "output_type": "execute_result"
    },
    {
     "data": {
      "image/png": "[encoded data removed]",
      "text/plain": [
       "<Figure size 432x288 with 1 Axes>"
      ]
     },
     "metadata": {
      "needs_background": "light"
     },
     "output_type": "display_data"
    }
   ],
   "source": [
    "lgb.plot_importance(bst_ts)"
   ]
  },
  {
   "cell_type": "markdown",
   "metadata": {
    "slideshow": {
     "slide_type": "fragment"
    }
   },
   "source": [
    "The model using only tsfresh features somehow works even better than the one with categorical features. We get a WAPE of 50% and a BIAS of -4%. The best features are the 1st fourier coefficient and the mean of the last 28 days of sales. tsfresh kinda works dude."
   ]
  },
  {
   "cell_type": "markdown",
   "metadata": {
    "slideshow": {
     "slide_type": "slide"
    }
   },
   "source": [
    "## Classification <a name=\"class\"></a>\n",
    "An interesting approach in the M5 competition was to build a classifier to predict whether there would be no sales at a certain forecast horizon [[2]](#178th). This was then paired with a regressor to produce forecasts. We can try this and see if we get a different set of features that are good predictors of 0 days. We'll set the target to `True` when there are sales and `False` when there are no sales.\n"
   ]
  },
  {
   "cell_type": "code",
   "execution_count": 305,
   "metadata": {
    "slideshow": {
     "slide_type": "skip"
    }
   },
   "outputs": [],
   "source": [
    "X = pd.read_hdf('data/interim/restricted_features_HOUSEHOLD_1_WI_1.h5')\n",
    "\n",
    "features = []\n",
    "targets = []\n",
    "horizons = [1, 4, 7]\n",
    "\n",
    "for horizon in horizons:\n",
    "    y = df_melted.groupby(\"id\").apply(lambda x: x.set_index(\"date\")[\"sales\"].shift(-horizon)).T.unstack()\n",
    "    y = y.loc[(slice(None), slice('2014-05-03', '2016-04-25'))]\n",
    "    drop = np.where(np.isnan(y.values))[0]\n",
    "    y = y.drop(y.index[drop])\n",
    "    y = y.apply(lambda x: False if (x==0) else True)\n",
    "    X_h = X.drop(X.index[drop])\n",
    "    targets.append(y)\n",
    "    features.append(X_h)"
   ]
  },
  {
   "cell_type": "code",
   "execution_count": 307,
   "metadata": {
    "slideshow": {
     "slide_type": "subslide"
    }
   },
   "outputs": [
    {
     "name": "stdout",
     "output_type": "stream",
     "text": [
      "\n",
      "Feature selection for horizon 1\n",
      "Number of features before selection: 23\n",
      "Number of features after selection: 23\n",
      "\n",
      "Feature selection for horizon 4\n",
      "Number of features before selection: 23\n",
      "Number of features after selection: 22\n",
      "\n",
      "Feature selection for horizon 7\n",
      "Number of features before selection: 23\n",
      "Number of features after selection: 22\n"
     ]
    }
   ],
   "source": [
    "features_filtered = []\n",
    "\n",
    "# first run feature selection to demonstrate the filtering process\n",
    "for i, dm in enumerate(features):\n",
    "    print(F'\\nFeature selection for horizon {horizons[i]}')\n",
    "    print('Number of features before selection:', dm.shape[1])\n",
    "    dm_filt = select_features(dm, targets[i], fdr_level=0.05)\n",
    "    print('Number of features after selection:', dm_filt.shape[1])\n",
    "    features_filtered.append(dm_filt)"
   ]
  },
  {
   "cell_type": "code",
   "execution_count": 308,
   "metadata": {
    "slideshow": {
     "slide_type": "skip"
    }
   },
   "outputs": [],
   "source": [
    "full_dms = []\n",
    "for i, dm in enumerate(features_filtered):\n",
    "    X = dm.merge(X_cat_te_filt, left_index=True, right_index=True)\n",
    "    X = X.merge(X_cal_filt, left_index=True, right_index=True)\n",
    "    X['horizon'] = horizons[i]\n",
    "    full_dms.append(X)\n",
    "    del X\n",
    "X = pd.concat(full_dms, axis=0)\n",
    "X['horizon'] = X['horizon'].astype('category')\n",
    "X.columns = X.columns.str.replace('\"','')\n",
    "X = X.drop(columns=['sales__fft_coefficient__attr_real__coeff_1','sales__fft_coefficient__attr_real__coeff_2'])\n",
    "y = pd.concat(targets, axis=0)"
   ]
  },
  {
   "cell_type": "code",
   "execution_count": 310,
   "metadata": {
    "slideshow": {
     "slide_type": "skip"
    }
   },
   "outputs": [],
   "source": [
    "X_train, y_train = X[X.index.map(lambda x:x[1]) <= '2015-05-02'], y[y.index.map(lambda x:x[1]) <= '2015-05-02']\n",
    "X_test, y_test = X[X.index.map(lambda x:x[1]) > '2015-05-02'], y[y.index.map(lambda x:x[1]) > '2015-05-02']"
   ]
  },
  {
   "cell_type": "code",
   "execution_count": 312,
   "metadata": {
    "slideshow": {
     "slide_type": "skip"
    }
   },
   "outputs": [],
   "source": [
    "trn = lgb.Dataset(data=X_train, label=y_train)\n",
    "val = lgb.Dataset(data=X_test, label=y_test)"
   ]
  },
  {
   "cell_type": "code",
   "execution_count": 313,
   "metadata": {
    "slideshow": {
     "slide_type": "subslide"
    }
   },
   "outputs": [
    {
     "name": "stdout",
     "output_type": "stream",
     "text": [
      "[LightGBM] [Info] Number of positive: 246047, number of negative: 336493\n",
      "[LightGBM] [Warning] Auto-choosing row-wise multi-threading, the overhead of testing was 0.020375 seconds.\n",
      "You can set `force_row_wise=true` to remove the overhead.\n",
      "And if memory is not enough, you can set `force_col_wise=true`.\n",
      "[LightGBM] [Info] Total Bins 4782\n",
      "[LightGBM] [Info] Number of data points in the train set: 582540, number of used features: 29\n"
     ]
    },
    {
     "name": "stderr",
     "output_type": "stream",
     "text": [
      "/Users/kartikeyvyas/miniconda3/lib/python3.8/site-packages/lightgbm/basic.py:1286: UserWarning: Overriding the parameters from Reference Dataset.\n",
      "  warnings.warn('Overriding the parameters from Reference Dataset.')\n",
      "/Users/kartikeyvyas/miniconda3/lib/python3.8/site-packages/lightgbm/basic.py:1098: UserWarning: categorical_column in param dict is overridden.\n",
      "  warnings.warn('{} in param dict is overridden.'.format(cat_alias))\n"
     ]
    },
    {
     "name": "stdout",
     "output_type": "stream",
     "text": [
      "[LightGBM] [Info] [binary:BoostFromScore]: pavg=0.422369 -> initscore=-0.313055\n",
      "[LightGBM] [Info] Start training from score -0.313055\n",
      "Training until validation scores don't improve for 200 rounds\n",
      "[50]\tvalid_0's auc: 0.799166\n",
      "[100]\tvalid_0's auc: 0.798955\n",
      "[150]\tvalid_0's auc: 0.798473\n",
      "[200]\tvalid_0's auc: 0.797951\n",
      "Did not meet early stopping. Best iteration is:\n",
      "[63]\tvalid_0's auc: 0.799323\n"
     ]
    }
   ],
   "source": [
    "params = {'objective':'binary',\n",
    "         'metric': 'auc'}\n",
    "clf = lgb.train(params, train_set=trn, valid_sets=[val],\n",
    "                num_boost_round=200,\n",
    "                early_stopping_rounds=200,\n",
    "                verbose_eval=50)"
   ]
  },
  {
   "cell_type": "code",
   "execution_count": 325,
   "metadata": {
    "slideshow": {
     "slide_type": "subslide"
    }
   },
   "outputs": [
    {
     "data": {
      "text/plain": [
       "<AxesSubplot:title={'center':'Feature importance'}, xlabel='Feature importance', ylabel='Features'>"
      ]
     },
     "execution_count": 325,
     "metadata": {},
     "output_type": "execute_result"
    },
    {
     "data": {
      "image/png": "[encoded data removed]",
      "text/plain": [
       "<Figure size 432x288 with 1 Axes>"
      ]
     },
     "metadata": {
      "needs_background": "light"
     },
     "output_type": "display_data"
    }
   ],
   "source": [
    "lgb.plot_importance(clf)"
   ]
  },
  {
   "cell_type": "code",
   "execution_count": 314,
   "metadata": {},
   "outputs": [],
   "source": [
    "from sklearn.ensemble import RandomForestClassifier\n",
    "from sklearn.metrics import roc_auc_score"
   ]
  },
  {
   "cell_type": "code",
   "execution_count": 315,
   "metadata": {
    "slideshow": {
     "slide_type": "subslide"
    }
   },
   "outputs": [],
   "source": [
    "rf = RandomForestClassifier()\n",
    "rf = rf.fit(X_train, y_train)\n",
    "y_pred = rf.predict(X_test)"
   ]
  },
  {
   "cell_type": "code",
   "execution_count": 316,
   "metadata": {
    "slideshow": {
     "slide_type": "fragment"
    }
   },
   "outputs": [
    {
     "data": {
      "text/plain": [
       "0.710247674235259"
      ]
     },
     "execution_count": 316,
     "metadata": {},
     "output_type": "execute_result"
    }
   ],
   "source": [
    "roc_auc_score(y_test, y_pred)"
   ]
  },
  {
   "cell_type": "markdown",
   "metadata": {
    "slideshow": {
     "slide_type": "skip"
    }
   },
   "source": [
    "Ok so using AUC as a metric, LightGBM actually does a better job than a random forest and runs WAY faster. An AUC of 0.8 is okay, but this shows the feasibility of using tsfresh features for classification. I think the challenge here is that the past *N* days of sales aren't necessarily the best predictor of whether we will have *some* sales at 1,4 and 7 day horizons, but this idea can definitely be refined and explored further for the RETAILER's project."
   ]
  },
  {
   "cell_type": "markdown",
   "metadata": {
    "slideshow": {
     "slide_type": "slide"
    }
   },
   "source": [
    "## References <a name=\"refs\"></a>"
   ]
  },
  {
   "cell_type": "markdown",
   "metadata": {
    "slideshow": {
     "slide_type": "fragment"
    }
   },
   "source": [
    "[1] <a name=\"fresh\"></a>Distributed and parallel time series feature extraction for industrial big data applications. https://arxiv.org/pdf/1610.07717v3.pdf  \n",
    "[2] <a name=\"178th\"></a>Recursive Model with Regression & Classification [178th]. Kaggle, M5 Forecasting - Accuracy. https://www.kaggle.com/c/m5-forecasting-accuracy/discussion/163372"
   ]
  }
 ],
 "metadata": {
  "kernelspec": {
   "display_name": "Python 3",
   "language": "python",
   "name": "python3"
  },
  "language_info": {
   "codemirror_mode": {
    "name": "ipython",
    "version": 3
   },
   "file_extension": ".py",
   "mimetype": "text/x-python",
   "name": "python",
   "nbconvert_exporter": "python",
   "pygments_lexer": "ipython3",
   "version": "3.8.5"
  }
 },
 "nbformat": 4,
 "nbformat_minor": 4
}
